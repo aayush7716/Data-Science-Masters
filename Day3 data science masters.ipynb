{
 "cells": [
  {
   "cell_type": "markdown",
   "id": "84c9578a-7219-4059-80bf-f3a3cde50fdb",
   "metadata": {},
   "source": [
    "## logical operators\n",
    "1. And\n",
    "2. Or\n",
    "3. Not"
   ]
  },
  {
   "cell_type": "code",
   "execution_count": 1,
   "id": "23c61a82-e63a-4827-89e9-0eb5de966b35",
   "metadata": {},
   "outputs": [
    {
     "data": {
      "text/plain": [
       "True"
      ]
     },
     "execution_count": 1,
     "metadata": {},
     "output_type": "execute_result"
    }
   ],
   "source": [
    "True and True"
   ]
  },
  {
   "cell_type": "code",
   "execution_count": 2,
   "id": "4825884e-6ef9-4ecc-b87a-d9738547a731",
   "metadata": {},
   "outputs": [
    {
     "data": {
      "text/plain": [
       "True"
      ]
     },
     "execution_count": 2,
     "metadata": {},
     "output_type": "execute_result"
    }
   ],
   "source": [
    "True or False"
   ]
  },
  {
   "cell_type": "code",
   "execution_count": 4,
   "id": "c398c7cc-ec17-40ec-aa5f-eacfc8ffbf87",
   "metadata": {},
   "outputs": [
    {
     "data": {
      "text/plain": [
       "False"
      ]
     },
     "execution_count": 4,
     "metadata": {},
     "output_type": "execute_result"
    }
   ],
   "source": [
    "not True"
   ]
  },
  {
   "cell_type": "code",
   "execution_count": 5,
   "id": "3d4e1854-a55d-4ac1-b26d-9e50969219ea",
   "metadata": {},
   "outputs": [
    {
     "data": {
      "text/plain": [
       "True"
      ]
     },
     "execution_count": 5,
     "metadata": {},
     "output_type": "execute_result"
    }
   ],
   "source": [
    "not bool(0)"
   ]
  },
  {
   "cell_type": "code",
   "execution_count": 6,
   "id": "3b1572c6-a936-4070-9f2d-d91842f434bf",
   "metadata": {},
   "outputs": [
    {
     "data": {
      "text/plain": [
       "True"
      ]
     },
     "execution_count": 6,
     "metadata": {},
     "output_type": "execute_result"
    }
   ],
   "source": [
    "not int(bool(0))"
   ]
  },
  {
   "cell_type": "code",
   "execution_count": 7,
   "id": "978e745a-a02f-41f0-be62-1c4d0a82a077",
   "metadata": {},
   "outputs": [
    {
     "data": {
      "text/plain": [
       "False"
      ]
     },
     "execution_count": 7,
     "metadata": {},
     "output_type": "execute_result"
    }
   ],
   "source": [
    "bool(0)"
   ]
  },
  {
   "cell_type": "code",
   "execution_count": 8,
   "id": "9d516524-0c76-4fb1-bbff-634c79772bc6",
   "metadata": {},
   "outputs": [
    {
     "data": {
      "text/plain": [
       "False"
      ]
     },
     "execution_count": 8,
     "metadata": {},
     "output_type": "execute_result"
    }
   ],
   "source": [
    "not 1"
   ]
  },
  {
   "cell_type": "code",
   "execution_count": 9,
   "id": "a6440610-9a22-4ca7-a119-bab6071f12aa",
   "metadata": {},
   "outputs": [
    {
     "data": {
      "text/plain": [
       "True"
      ]
     },
     "execution_count": 9,
     "metadata": {},
     "output_type": "execute_result"
    }
   ],
   "source": [
    "not 0"
   ]
  },
  {
   "cell_type": "code",
   "execution_count": 10,
   "id": "f1e7f1b9-ee87-445b-9b50-bc0e48cddd65",
   "metadata": {},
   "outputs": [
    {
     "data": {
      "text/plain": [
       "False"
      ]
     },
     "execution_count": 10,
     "metadata": {},
     "output_type": "execute_result"
    }
   ],
   "source": [
    "not int(bool(1))"
   ]
  },
  {
   "cell_type": "code",
   "execution_count": 14,
   "id": "aced4ca3-8ffc-4d07-8f53-56efa0383d1c",
   "metadata": {},
   "outputs": [
    {
     "data": {
      "text/plain": [
       "False"
      ]
     },
     "execution_count": 14,
     "metadata": {},
     "output_type": "execute_result"
    }
   ],
   "source": [
    "not 5/8"
   ]
  },
  {
   "cell_type": "code",
   "execution_count": 16,
   "id": "f23ecdba-6f75-4e2a-b685-6de70109d1a0",
   "metadata": {},
   "outputs": [
    {
     "data": {
      "text/plain": [
       "False"
      ]
     },
     "execution_count": 16,
     "metadata": {},
     "output_type": "execute_result"
    }
   ],
   "source": [
    "bool(0)"
   ]
  },
  {
   "cell_type": "code",
   "execution_count": 17,
   "id": "248759bb-5140-4791-8b4b-fd4f59de4036",
   "metadata": {},
   "outputs": [
    {
     "data": {
      "text/plain": [
       "True"
      ]
     },
     "execution_count": 17,
     "metadata": {},
     "output_type": "execute_result"
    }
   ],
   "source": [
    "bool(1)"
   ]
  },
  {
   "cell_type": "code",
   "execution_count": 19,
   "id": "1575af34-1ea3-4a5c-ac44-bcdc8cb1f4f5",
   "metadata": {},
   "outputs": [
    {
     "data": {
      "text/plain": [
       "{True}"
      ]
     },
     "execution_count": 19,
     "metadata": {},
     "output_type": "execute_result"
    }
   ],
   "source": [
    "{not 0}"
   ]
  },
  {
   "cell_type": "code",
   "execution_count": 20,
   "id": "3c1beea8-7253-4e02-8662-570c407f5ea4",
   "metadata": {},
   "outputs": [
    {
     "data": {
      "text/plain": [
       "True"
      ]
     },
     "execution_count": 20,
     "metadata": {},
     "output_type": "execute_result"
    }
   ],
   "source": [
    "bool(-5)"
   ]
  },
  {
   "cell_type": "code",
   "execution_count": 21,
   "id": "ab961313-decb-4c88-86da-6916d33c5ccd",
   "metadata": {},
   "outputs": [
    {
     "data": {
      "text/plain": [
       "False"
      ]
     },
     "execution_count": 21,
     "metadata": {},
     "output_type": "execute_result"
    }
   ],
   "source": [
    "not -5"
   ]
  },
  {
   "cell_type": "markdown",
   "id": "dbdcbd82-6059-49ad-a26a-56fa92820f28",
   "metadata": {},
   "source": [
    "## Logical And"
   ]
  },
  {
   "cell_type": "code",
   "execution_count": 23,
   "id": "537afe3e-15d3-444b-a165-52bc739ceb8b",
   "metadata": {},
   "outputs": [
    {
     "data": {
      "text/plain": [
       "0"
      ]
     },
     "execution_count": 23,
     "metadata": {},
     "output_type": "execute_result"
    }
   ],
   "source": [
    "True * False"
   ]
  },
  {
   "cell_type": "code",
   "execution_count": 24,
   "id": "bcc5a28d-eab2-4663-8d73-de493ab36fdc",
   "metadata": {},
   "outputs": [
    {
     "data": {
      "text/plain": [
       "1"
      ]
     },
     "execution_count": 24,
     "metadata": {},
     "output_type": "execute_result"
    }
   ],
   "source": [
    "True * True"
   ]
  },
  {
   "cell_type": "code",
   "execution_count": 25,
   "id": "378f3651-825a-4f2b-8370-ccf4f8ea33b3",
   "metadata": {},
   "outputs": [
    {
     "data": {
      "text/plain": [
       "0"
      ]
     },
     "execution_count": 25,
     "metadata": {},
     "output_type": "execute_result"
    }
   ],
   "source": [
    "False * False"
   ]
  },
  {
   "cell_type": "code",
   "execution_count": 26,
   "id": "d57d0de2-2971-4f3b-9bfc-d25c6b106803",
   "metadata": {},
   "outputs": [
    {
     "data": {
      "text/plain": [
       "True"
      ]
     },
     "execution_count": 26,
     "metadata": {},
     "output_type": "execute_result"
    }
   ],
   "source": [
    "not(False) * True"
   ]
  },
  {
   "cell_type": "code",
   "execution_count": 27,
   "id": "c688d5a2-8a39-4655-ae49-4cbc2ae048b2",
   "metadata": {},
   "outputs": [
    {
     "data": {
      "text/plain": [
       "0"
      ]
     },
     "execution_count": 27,
     "metadata": {},
     "output_type": "execute_result"
    }
   ],
   "source": [
    "False * (not(False))"
   ]
  },
  {
   "cell_type": "code",
   "execution_count": 28,
   "id": "97b29b61-62f4-460c-8821-7852c3f676b9",
   "metadata": {},
   "outputs": [
    {
     "data": {
      "text/plain": [
       "0"
      ]
     },
     "execution_count": 28,
     "metadata": {},
     "output_type": "execute_result"
    }
   ],
   "source": [
    "(not(False)) * False"
   ]
  },
  {
   "cell_type": "code",
   "execution_count": 29,
   "id": "2a1ea974-6455-4304-ae4f-917e3f3ed329",
   "metadata": {},
   "outputs": [
    {
     "data": {
      "text/plain": [
       "9"
      ]
     },
     "execution_count": 29,
     "metadata": {},
     "output_type": "execute_result"
    }
   ],
   "source": [
    "(1+2)*3"
   ]
  },
  {
   "cell_type": "code",
   "execution_count": 31,
   "id": "7429d032-6d9f-41b3-8a80-541042556f21",
   "metadata": {},
   "outputs": [
    {
     "data": {
      "text/plain": [
       "True"
      ]
     },
     "execution_count": 31,
     "metadata": {},
     "output_type": "execute_result"
    }
   ],
   "source": [
    "not False * False"
   ]
  },
  {
   "cell_type": "code",
   "execution_count": 32,
   "id": "1dab1501-9295-4e66-ab52-05459e6618d7",
   "metadata": {},
   "outputs": [
    {
     "data": {
      "text/plain": [
       "True"
      ]
     },
     "execution_count": 32,
     "metadata": {},
     "output_type": "execute_result"
    }
   ],
   "source": [
    "not(False)*False == True"
   ]
  },
  {
   "cell_type": "code",
   "execution_count": 33,
   "id": "f2d77bdf-25da-4ae0-a677-280a2f6a2c4d",
   "metadata": {},
   "outputs": [
    {
     "name": "stdout",
     "output_type": "stream",
     "text": [
      "0\n"
     ]
    }
   ],
   "source": [
    "print((not(False)) * False)"
   ]
  },
  {
   "cell_type": "code",
   "execution_count": 34,
   "id": "e60f2de8-ae2b-4172-9615-5bd252293746",
   "metadata": {},
   "outputs": [
    {
     "data": {
      "text/plain": [
       "14.0"
      ]
     },
     "execution_count": 34,
     "metadata": {},
     "output_type": "execute_result"
    }
   ],
   "source": [
    "2*3+40/5"
   ]
  },
  {
   "cell_type": "code",
   "execution_count": 36,
   "id": "e0a8e7fb-404e-4f50-afaf-c1e2607e7641",
   "metadata": {},
   "outputs": [
    {
     "data": {
      "text/plain": [
       "0"
      ]
     },
     "execution_count": 36,
     "metadata": {},
     "output_type": "execute_result"
    }
   ],
   "source": [
    "0*1"
   ]
  },
  {
   "cell_type": "code",
   "execution_count": 37,
   "id": "3e33414a-a37a-4d6a-a87e-384c2486c0a6",
   "metadata": {},
   "outputs": [
    {
     "data": {
      "text/plain": [
       "True"
      ]
     },
     "execution_count": 37,
     "metadata": {},
     "output_type": "execute_result"
    }
   ],
   "source": [
    "not False * True == True"
   ]
  },
  {
   "cell_type": "markdown",
   "id": "87de917f-d4b3-415a-af6a-a05c2d31fb6d",
   "metadata": {},
   "source": [
    "# EQUALITY OPERATOR"
   ]
  },
  {
   "cell_type": "code",
   "execution_count": null,
   "id": "f0c8d1cb-0f16-43eb-84fc-95af93127574",
   "metadata": {},
   "outputs": [],
   "source": [
    "lst_a=[1,2,3,4]\n",
    "lst_b=[1,2,3,4]\n"
   ]
  },
  {
   "cell_type": "code",
   "execution_count": 40,
   "id": "298ab9bf-9990-4760-81ba-56e1d1456bcf",
   "metadata": {},
   "outputs": [
    {
     "ename": "NameError",
     "evalue": "name 'lst_a' is not defined",
     "output_type": "error",
     "traceback": [
      "\u001b[0;31m---------------------------------------------------------------------------\u001b[0m",
      "\u001b[0;31mNameError\u001b[0m                                 Traceback (most recent call last)",
      "Cell \u001b[0;32mIn[40], line 1\u001b[0m\n\u001b[0;32m----> 1\u001b[0m \u001b[38;5;28mprint\u001b[39m(\u001b[38;5;28mid\u001b[39m(\u001b[43mlst_a\u001b[49m))\n\u001b[1;32m      2\u001b[0m \u001b[38;5;28mprint\u001b[39m(\u001b[38;5;28mid\u001b[39m(lst_b))\n",
      "\u001b[0;31mNameError\u001b[0m: name 'lst_a' is not defined"
     ]
    }
   ],
   "source": [
    "print(id(lst_a))\n",
    "print(id(lst_b))"
   ]
  },
  {
   "cell_type": "code",
   "execution_count": 41,
   "id": "0b04588a-957c-4221-8473-519240c35bdc",
   "metadata": {},
   "outputs": [
    {
     "data": {
      "text/plain": [
       "True"
      ]
     },
     "execution_count": 41,
     "metadata": {},
     "output_type": "execute_result"
    }
   ],
   "source": [
    "lst_a=[1,2,3,4]\n",
    "lst_b=[1,2,3,4]\n",
    "\n",
    "lst_a is not lst_b"
   ]
  },
  {
   "cell_type": "code",
   "execution_count": 42,
   "id": "990ea311-af08-465a-9b0e-0e824cabc7a5",
   "metadata": {},
   "outputs": [
    {
     "data": {
      "text/plain": [
       "True"
      ]
     },
     "execution_count": 42,
     "metadata": {},
     "output_type": "execute_result"
    }
   ],
   "source": [
    "lst_a == lst_b"
   ]
  },
  {
   "cell_type": "code",
   "execution_count": 43,
   "id": "9549d083-5b7e-46fb-97b0-ade0b8ece11d",
   "metadata": {},
   "outputs": [],
   "source": [
    "a=2\n",
    "b=2"
   ]
  },
  {
   "cell_type": "code",
   "execution_count": 44,
   "id": "5d2602fc-1bd3-4b84-811e-84cf0ac664f9",
   "metadata": {},
   "outputs": [
    {
     "name": "stdout",
     "output_type": "stream",
     "text": [
      "140667051704592\n",
      "140667051704592\n"
     ]
    }
   ],
   "source": [
    "print(id(a))\n",
    "print(id(b))"
   ]
  },
  {
   "cell_type": "code",
   "execution_count": null,
   "id": "d64e846a-0b5a-442b-88b6-08481d5c8e52",
   "metadata": {},
   "outputs": [],
   "source": [
    "Why is this address same?\n",
    "whenever we say about strings"
   ]
  },
  {
   "cell_type": "code",
   "execution_count": 45,
   "id": "2482ae7a-da9d-49ab-83bd-5cc44ee15541",
   "metadata": {},
   "outputs": [
    {
     "name": "stdout",
     "output_type": "stream",
     "text": [
      "140666702372144\n",
      "140666702372144\n"
     ]
    }
   ],
   "source": [
    "str1=\"Aayush\"\n",
    "str2=\"Aayush\"\n",
    "print(id(str1))\n",
    "print(id(str2))"
   ]
  },
  {
   "cell_type": "code",
   "execution_count": 46,
   "id": "f2bf6ef7-b0dc-4738-8ae8-93f6a76b3689",
   "metadata": {},
   "outputs": [
    {
     "name": "stdout",
     "output_type": "stream",
     "text": [
      "140666702372144\n",
      "140666703682160\n"
     ]
    }
   ],
   "source": [
    "str1=\"Aayush\"\n",
    "str2=\"Aayush1\"\n",
    "print(id(str1))\n",
    "print(id(str2))"
   ]
  },
  {
   "cell_type": "code",
   "execution_count": 47,
   "id": "630179f3-f91c-4486-beac-12d364940901",
   "metadata": {},
   "outputs": [
    {
     "data": {
      "text/plain": [
       "[1, 2, 3, 4]"
      ]
     },
     "execution_count": 47,
     "metadata": {},
     "output_type": "execute_result"
    }
   ],
   "source": [
    "lst_a"
   ]
  },
  {
   "cell_type": "code",
   "execution_count": 48,
   "id": "241172b0-5b6b-4333-9b24-ab0f69bc5edf",
   "metadata": {},
   "outputs": [
    {
     "data": {
      "text/plain": [
       "1"
      ]
     },
     "execution_count": 48,
     "metadata": {},
     "output_type": "execute_result"
    }
   ],
   "source": [
    "lst_a[0]"
   ]
  },
  {
   "cell_type": "code",
   "execution_count": 49,
   "id": "96f25a5d-1cf5-4b58-b8dc-d9b7ef13abc3",
   "metadata": {},
   "outputs": [],
   "source": [
    "lst_a[0]=10"
   ]
  },
  {
   "cell_type": "code",
   "execution_count": 50,
   "id": "734d7125-c020-457b-b468-827f411dcb6a",
   "metadata": {},
   "outputs": [
    {
     "data": {
      "text/plain": [
       "[10, 2, 3, 4]"
      ]
     },
     "execution_count": 50,
     "metadata": {},
     "output_type": "execute_result"
    }
   ],
   "source": [
    "lst_a"
   ]
  },
  {
   "cell_type": "code",
   "execution_count": null,
   "id": "aef04d10-6380-4362-9b39-c801ed16e21a",
   "metadata": {},
   "outputs": [],
   "source": [
    "string is not mutable. we can replace the string but cannot change the element inside that. and in list we can change the element"
   ]
  },
  {
   "cell_type": "markdown",
   "id": "1b9016ee-de29-46a7-b211-ac76d0430ae5",
   "metadata": {},
   "source": [
    "## comparison operation"
   ]
  },
  {
   "cell_type": "markdown",
   "id": "b87eccff-cb2f-4b24-b675-43ff087307ae",
   "metadata": {},
   "source": [
    "## Arithmethic Operations"
   ]
  },
  {
   "cell_type": "code",
   "execution_count": 53,
   "id": "41bb7c85-a692-4171-a317-a9b81222d2aa",
   "metadata": {},
   "outputs": [],
   "source": [
    "a=25\n",
    "b=101"
   ]
  },
  {
   "cell_type": "code",
   "execution_count": 54,
   "id": "3ef43541-9264-4b94-9537-dcb83bfafa44",
   "metadata": {},
   "outputs": [
    {
     "data": {
      "text/plain": [
       "2525"
      ]
     },
     "execution_count": 54,
     "metadata": {},
     "output_type": "execute_result"
    }
   ],
   "source": [
    "b*a"
   ]
  },
  {
   "cell_type": "code",
   "execution_count": 55,
   "id": "3c789183-f757-4dce-ada9-52d9d856cf00",
   "metadata": {},
   "outputs": [
    {
     "data": {
      "text/plain": [
       "126"
      ]
     },
     "execution_count": 55,
     "metadata": {},
     "output_type": "execute_result"
    }
   ],
   "source": [
    "b+a"
   ]
  },
  {
   "cell_type": "code",
   "execution_count": 56,
   "id": "64ab18ff-c7e0-4a3b-9b32-8922808deb39",
   "metadata": {},
   "outputs": [
    {
     "data": {
      "text/plain": [
       "0"
      ]
     },
     "execution_count": 56,
     "metadata": {},
     "output_type": "execute_result"
    }
   ],
   "source": [
    "a//b"
   ]
  },
  {
   "cell_type": "code",
   "execution_count": null,
   "id": "e16035ec-2ad0-48bf-a139-e09d24215a0f",
   "metadata": {},
   "outputs": [],
   "source": [
    "// means integer division"
   ]
  },
  {
   "cell_type": "code",
   "execution_count": 57,
   "id": "4dcbffac-3c73-4e2a-87a3-d382d5ffe960",
   "metadata": {},
   "outputs": [
    {
     "data": {
      "text/plain": [
       "4.04"
      ]
     },
     "execution_count": 57,
     "metadata": {},
     "output_type": "execute_result"
    }
   ],
   "source": [
    "b/a"
   ]
  },
  {
   "cell_type": "code",
   "execution_count": 58,
   "id": "02c81b29-1a68-4539-af84-c2daeacbd635",
   "metadata": {},
   "outputs": [
    {
     "data": {
      "text/plain": [
       "1"
      ]
     },
     "execution_count": 58,
     "metadata": {},
     "output_type": "execute_result"
    }
   ],
   "source": [
    "b%a"
   ]
  },
  {
   "cell_type": "code",
   "execution_count": 59,
   "id": "a3cc0bfb-1e15-408b-a05e-80804b224381",
   "metadata": {},
   "outputs": [
    {
     "data": {
      "text/plain": [
       "25"
      ]
     },
     "execution_count": 59,
     "metadata": {},
     "output_type": "execute_result"
    }
   ],
   "source": [
    "a%b"
   ]
  },
  {
   "cell_type": "code",
   "execution_count": null,
   "id": "e7c5df81-85f1-4cf6-96d0-6430f35e0c6e",
   "metadata": {},
   "outputs": [],
   "source": [
    "% means modulus (gives remainder)"
   ]
  },
  {
   "cell_type": "markdown",
   "id": "883bb161-1850-4d73-9d05-feb70dfb7a03",
   "metadata": {},
   "source": [
    "# Bitwise Operation"
   ]
  },
  {
   "cell_type": "code",
   "execution_count": 60,
   "id": "9740d210-1bd3-4354-9543-09abffeeb1a7",
   "metadata": {},
   "outputs": [
    {
     "data": {
      "text/plain": [
       "'0b1010'"
      ]
     },
     "execution_count": 60,
     "metadata": {},
     "output_type": "execute_result"
    }
   ],
   "source": [
    "var=10\n",
    "bin(var)"
   ]
  },
  {
   "cell_type": "code",
   "execution_count": 61,
   "id": "20e7e59d-701e-44aa-b8e2-e9571c615130",
   "metadata": {},
   "outputs": [
    {
     "data": {
      "text/plain": [
       "-11"
      ]
     },
     "execution_count": 61,
     "metadata": {},
     "output_type": "execute_result"
    }
   ],
   "source": [
    "~var"
   ]
  },
  {
   "cell_type": "code",
   "execution_count": null,
   "id": "b8669728-0227-4412-950c-87896d2d38d8",
   "metadata": {},
   "outputs": [],
   "source": [
    "assignment study bitwise  operators."
   ]
  },
  {
   "cell_type": "markdown",
   "id": "ba5df359-fb04-4c60-b35b-155e79e6b899",
   "metadata": {},
   "source": [
    "## Strings"
   ]
  },
  {
   "cell_type": "code",
   "execution_count": 62,
   "id": "ab053816-895e-4cb9-8495-c2b9191ea9f1",
   "metadata": {},
   "outputs": [
    {
     "data": {
      "text/plain": [
       "'Welcome to Data science Masters'"
      ]
     },
     "execution_count": 62,
     "metadata": {},
     "output_type": "execute_result"
    }
   ],
   "source": [
    "'Aayush'\n",
    "\"Welcome to Data science Masters\""
   ]
  },
  {
   "cell_type": "code",
   "execution_count": 63,
   "id": "84de6476-31f4-4798-b3ee-4102a67d3c4e",
   "metadata": {},
   "outputs": [],
   "source": [
    "str1=\"Welcome to Data Science Masters\""
   ]
  },
  {
   "cell_type": "code",
   "execution_count": 64,
   "id": "e86b2d3e-4caf-45a7-999e-4f5d0ee2c0bd",
   "metadata": {},
   "outputs": [
    {
     "data": {
      "text/plain": [
       "str"
      ]
     },
     "execution_count": 64,
     "metadata": {},
     "output_type": "execute_result"
    }
   ],
   "source": [
    "type(str1)"
   ]
  },
  {
   "cell_type": "code",
   "execution_count": 65,
   "id": "11edf235-5c51-4377-98e2-08ae8a78fe88",
   "metadata": {},
   "outputs": [
    {
     "ename": "TypeError",
     "evalue": "'str' object does not support item assignment",
     "output_type": "error",
     "traceback": [
      "\u001b[0;31m---------------------------------------------------------------------------\u001b[0m",
      "\u001b[0;31mTypeError\u001b[0m                                 Traceback (most recent call last)",
      "Cell \u001b[0;32mIn[65], line 1\u001b[0m\n\u001b[0;32m----> 1\u001b[0m \u001b[43mstr1\u001b[49m\u001b[43m[\u001b[49m\u001b[38;5;241;43m0\u001b[39;49m\u001b[43m]\u001b[49m\u001b[38;5;241m=\u001b[39m\u001b[38;5;241m12\u001b[39m\n",
      "\u001b[0;31mTypeError\u001b[0m: 'str' object does not support item assignment"
     ]
    }
   ],
   "source": [
    "## immutable\n",
    "str1[0]=12"
   ]
  },
  {
   "cell_type": "code",
   "execution_count": 66,
   "id": "a267cc5d-fece-4865-ba01-361fbcc0b7ba",
   "metadata": {},
   "outputs": [],
   "source": [
    "str1=\"Aayush Srivastava\""
   ]
  },
  {
   "cell_type": "code",
   "execution_count": 67,
   "id": "70d5f73f-8048-4e97-ba65-09d3369bc7af",
   "metadata": {},
   "outputs": [
    {
     "data": {
      "text/plain": [
       "'Aayush Srivastava'"
      ]
     },
     "execution_count": 67,
     "metadata": {},
     "output_type": "execute_result"
    }
   ],
   "source": [
    "str1"
   ]
  },
  {
   "cell_type": "code",
   "execution_count": 68,
   "id": "3df5f74b-875b-403e-9ffd-ccec78d053fd",
   "metadata": {},
   "outputs": [],
   "source": [
    "str1=\"Hello World\""
   ]
  },
  {
   "cell_type": "code",
   "execution_count": 72,
   "id": "226ef548-dd1e-4921-b918-9b2b0cd27510",
   "metadata": {},
   "outputs": [],
   "source": [
    "string =\"Pw Skills Data Science\""
   ]
  },
  {
   "cell_type": "code",
   "execution_count": 73,
   "id": "143f4e63-1f3b-4fd2-b33c-527a048b7460",
   "metadata": {},
   "outputs": [
    {
     "data": {
      "text/plain": [
       "'i'"
      ]
     },
     "execution_count": 73,
     "metadata": {},
     "output_type": "execute_result"
    }
   ],
   "source": [
    "string[5]"
   ]
  },
  {
   "cell_type": "code",
   "execution_count": 74,
   "id": "9ca28d49-cff9-4fc3-978f-ce4ff10eabf4",
   "metadata": {},
   "outputs": [
    {
     "data": {
      "text/plain": [
       "'ills Data Science'"
      ]
     },
     "execution_count": 74,
     "metadata": {},
     "output_type": "execute_result"
    }
   ],
   "source": [
    "## slice operation\n",
    "string[5:]"
   ]
  },
  {
   "cell_type": "code",
   "execution_count": 75,
   "id": "a4f3620f-579b-4b76-9f07-18ba8e1d05f3",
   "metadata": {},
   "outputs": [
    {
     "data": {
      "text/plain": [
       "'ills D'"
      ]
     },
     "execution_count": 75,
     "metadata": {},
     "output_type": "execute_result"
    }
   ],
   "source": [
    "string[5:11]"
   ]
  },
  {
   "cell_type": "code",
   "execution_count": 76,
   "id": "4f95b323-7899-4ef0-acfe-92c98845c77f",
   "metadata": {},
   "outputs": [
    {
     "data": {
      "text/plain": [
       "'e'"
      ]
     },
     "execution_count": 76,
     "metadata": {},
     "output_type": "execute_result"
    }
   ],
   "source": [
    "string[-1]"
   ]
  },
  {
   "cell_type": "code",
   "execution_count": 77,
   "id": "5b760a96-835e-4cbf-9d3b-6b056dd1c32d",
   "metadata": {},
   "outputs": [
    {
     "data": {
      "text/plain": [
       "'e'"
      ]
     },
     "execution_count": 77,
     "metadata": {},
     "output_type": "execute_result"
    }
   ],
   "source": [
    "string[-1:]"
   ]
  },
  {
   "cell_type": "raw",
   "id": "bb6330d5-ae37-4e65-859a-9535648334f6",
   "metadata": {},
   "source": []
  },
  {
   "cell_type": "code",
   "execution_count": 78,
   "id": "1dbc73b3-6fd5-449a-88c7-18f16fd676f0",
   "metadata": {},
   "outputs": [
    {
     "data": {
      "text/plain": [
       "'nce'"
      ]
     },
     "execution_count": 78,
     "metadata": {},
     "output_type": "execute_result"
    }
   ],
   "source": [
    "string[-3:]"
   ]
  },
  {
   "cell_type": "code",
   "execution_count": 79,
   "id": "9198356a-dda9-4202-8f5d-6b48efb23509",
   "metadata": {},
   "outputs": [
    {
     "data": {
      "text/plain": [
       "''"
      ]
     },
     "execution_count": 79,
     "metadata": {},
     "output_type": "execute_result"
    }
   ],
   "source": [
    "string[-7:5]"
   ]
  },
  {
   "cell_type": "code",
   "execution_count": 80,
   "id": "91a10c4c-daa5-4fcd-b66c-0c97fa1b5604",
   "metadata": {},
   "outputs": [
    {
     "data": {
      "text/plain": [
       "''"
      ]
     },
     "execution_count": 80,
     "metadata": {},
     "output_type": "execute_result"
    }
   ],
   "source": [
    "string[7:5]"
   ]
  },
  {
   "cell_type": "code",
   "execution_count": 81,
   "id": "6e5808fb-a491-4199-8277-78453b8e7bcb",
   "metadata": {},
   "outputs": [
    {
     "data": {
      "text/plain": [
       "'Pw Skills Data Scienc'"
      ]
     },
     "execution_count": 81,
     "metadata": {},
     "output_type": "execute_result"
    }
   ],
   "source": [
    "string[:-1]"
   ]
  },
  {
   "cell_type": "code",
   "execution_count": 82,
   "id": "966da343-490b-4251-ac6b-b4396ef24f77",
   "metadata": {},
   "outputs": [
    {
     "data": {
      "text/plain": [
       "'Pw Skills Data Science'"
      ]
     },
     "execution_count": 82,
     "metadata": {},
     "output_type": "execute_result"
    }
   ],
   "source": [
    "string"
   ]
  },
  {
   "cell_type": "code",
   "execution_count": 83,
   "id": "943edfe6-cdd0-4ac6-a215-36859f3f0a2e",
   "metadata": {},
   "outputs": [
    {
     "data": {
      "text/plain": [
       "'ecneicS ataD sllikS wP'"
      ]
     },
     "execution_count": 83,
     "metadata": {},
     "output_type": "execute_result"
    }
   ],
   "source": [
    "string[::-1]"
   ]
  },
  {
   "cell_type": "code",
   "execution_count": 84,
   "id": "1efb5b6b-4d4c-4a81-af95-c78133fe2934",
   "metadata": {},
   "outputs": [
    {
     "data": {
      "text/plain": [
       "'eniSaa liSw'"
      ]
     },
     "execution_count": 84,
     "metadata": {},
     "output_type": "execute_result"
    }
   ],
   "source": [
    "string[::-2]"
   ]
  },
  {
   "cell_type": "code",
   "execution_count": 85,
   "id": "a0de72e1-fac0-4922-9b26-8fd95aee6cba",
   "metadata": {},
   "outputs": [
    {
     "data": {
      "text/plain": [
       "'likS wP'"
      ]
     },
     "execution_count": 85,
     "metadata": {},
     "output_type": "execute_result"
    }
   ],
   "source": [
    "string[6::-1]"
   ]
  },
  {
   "cell_type": "code",
   "execution_count": 86,
   "id": "bf1f82b4-a69f-41e7-bd21-aede34463116",
   "metadata": {},
   "outputs": [
    {
     "data": {
      "text/plain": [
       "'lk P'"
      ]
     },
     "execution_count": 86,
     "metadata": {},
     "output_type": "execute_result"
    }
   ],
   "source": [
    "string[6::-2]"
   ]
  },
  {
   "cell_type": "code",
   "execution_count": 87,
   "id": "9e6ed592-f0a0-4acf-b317-2f07f9037aef",
   "metadata": {},
   "outputs": [],
   "source": [
    "name=\"aayush\""
   ]
  },
  {
   "cell_type": "code",
   "execution_count": 88,
   "id": "5f32eee0-2e68-46c1-9410-66e5aa2e1411",
   "metadata": {},
   "outputs": [
    {
     "data": {
      "text/plain": [
       "'uyaa'"
      ]
     },
     "execution_count": 88,
     "metadata": {},
     "output_type": "execute_result"
    }
   ],
   "source": [
    "name[3::-1]"
   ]
  },
  {
   "cell_type": "code",
   "execution_count": 89,
   "id": "c04571ed-a413-4fce-ac08-f497c6038c36",
   "metadata": {},
   "outputs": [
    {
     "data": {
      "text/plain": [
       "'hsuyaa'"
      ]
     },
     "execution_count": 89,
     "metadata": {},
     "output_type": "execute_result"
    }
   ],
   "source": [
    "name[::-1]"
   ]
  },
  {
   "cell_type": "code",
   "execution_count": 90,
   "id": "82a3dd31-ff87-4019-ad77-d90c5aaa75d2",
   "metadata": {},
   "outputs": [
    {
     "data": {
      "text/plain": [
       "'uy'"
      ]
     },
     "execution_count": 90,
     "metadata": {},
     "output_type": "execute_result"
    }
   ],
   "source": [
    "name[3:1:-1]"
   ]
  },
  {
   "cell_type": "code",
   "execution_count": null,
   "id": "960ae4af-ee3d-4bde-8222-85a87314601f",
   "metadata": {},
   "outputs": [],
   "source": [
    "## concatenation"
   ]
  },
  {
   "cell_type": "code",
   "execution_count": 91,
   "id": "fc3e6a4b-d9d4-400d-8db3-a4bec64ed945",
   "metadata": {},
   "outputs": [
    {
     "name": "stdout",
     "output_type": "stream",
     "text": [
      "HelloWorlds\n"
     ]
    }
   ],
   "source": [
    "print(\"Hello\" + \"Worlds\")"
   ]
  },
  {
   "cell_type": "code",
   "execution_count": 93,
   "id": "cdd21f9e-a49e-453a-9439-67fc7664bb6d",
   "metadata": {},
   "outputs": [],
   "source": [
    "course_name=\"Data Science Masters\""
   ]
  },
  {
   "cell_type": "code",
   "execution_count": 94,
   "id": "c1fa42e5-145a-4035-94ea-78a963bac16d",
   "metadata": {},
   "outputs": [
    {
     "data": {
      "text/plain": [
       "20"
      ]
     },
     "execution_count": 94,
     "metadata": {},
     "output_type": "execute_result"
    }
   ],
   "source": [
    "len(course_name)"
   ]
  },
  {
   "cell_type": "code",
   "execution_count": 95,
   "id": "9c6e68e3-9065-44a9-b59c-2b1ba58ac3c1",
   "metadata": {},
   "outputs": [
    {
     "data": {
      "text/plain": [
       "'Data Science MastersData Science MastersData Science MastersData Science MastersData Science Masters'"
      ]
     },
     "execution_count": 95,
     "metadata": {},
     "output_type": "execute_result"
    }
   ],
   "source": [
    "course_name *5"
   ]
  },
  {
   "cell_type": "code",
   "execution_count": 96,
   "id": "5b3820df-4a15-4e89-92b5-6b01084413ed",
   "metadata": {},
   "outputs": [
    {
     "data": {
      "text/plain": [
       "9"
      ]
     },
     "execution_count": 96,
     "metadata": {},
     "output_type": "execute_result"
    }
   ],
   "source": [
    "## find function\n",
    "course_name.find(\"n\")"
   ]
  },
  {
   "cell_type": "code",
   "execution_count": 98,
   "id": "73521a97-f2cd-43fa-a003-d45907c85186",
   "metadata": {},
   "outputs": [
    {
     "data": {
      "text/plain": [
       "3"
      ]
     },
     "execution_count": 98,
     "metadata": {},
     "output_type": "execute_result"
    }
   ],
   "source": [
    "course_name.find(\"a\",2,10)"
   ]
  },
  {
   "cell_type": "code",
   "execution_count": 99,
   "id": "ca89faed-fe87-4412-8a40-93c76b934236",
   "metadata": {},
   "outputs": [
    {
     "data": {
      "text/plain": [
       "-1"
      ]
     },
     "execution_count": 99,
     "metadata": {},
     "output_type": "execute_result"
    }
   ],
   "source": [
    "course_name.find(\"z\")"
   ]
  },
  {
   "cell_type": "code",
   "execution_count": 100,
   "id": "9417946a-3ea2-438f-be3d-be534edebe68",
   "metadata": {},
   "outputs": [
    {
     "data": {
      "text/plain": [
       "3"
      ]
     },
     "execution_count": 100,
     "metadata": {},
     "output_type": "execute_result"
    }
   ],
   "source": [
    "## count()\n",
    "course_name.count('a')"
   ]
  },
  {
   "cell_type": "code",
   "execution_count": 101,
   "id": "52c5635a-a5cf-4dbc-81cd-500d610d09d5",
   "metadata": {},
   "outputs": [
    {
     "data": {
      "text/plain": [
       "2"
      ]
     },
     "execution_count": 101,
     "metadata": {},
     "output_type": "execute_result"
    }
   ],
   "source": [
    "course_name.count(' ')"
   ]
  },
  {
   "cell_type": "code",
   "execution_count": 102,
   "id": "9d585b2e-5b5a-468f-82ba-8ab389cb9472",
   "metadata": {},
   "outputs": [
    {
     "data": {
      "text/plain": [
       "21"
      ]
     },
     "execution_count": 102,
     "metadata": {},
     "output_type": "execute_result"
    }
   ],
   "source": [
    "course_name.count('')"
   ]
  },
  {
   "cell_type": "markdown",
   "id": "b0e3ea83-cfaa-404c-9d92-cd9b242d55dd",
   "metadata": {},
   "source": [
    "## string split function"
   ]
  },
  {
   "cell_type": "code",
   "execution_count": 104,
   "id": "dc80468a-130a-492b-8931-2c5e0a3ebc55",
   "metadata": {},
   "outputs": [
    {
     "data": {
      "text/plain": [
       "['Data', 'Science', 'Masters']"
      ]
     },
     "execution_count": 104,
     "metadata": {},
     "output_type": "execute_result"
    }
   ],
   "source": [
    "course_name.split(' ')"
   ]
  },
  {
   "cell_type": "code",
   "execution_count": 105,
   "id": "d2b9d787-7666-4d25-a80b-6c28e1a2ef00",
   "metadata": {},
   "outputs": [
    {
     "data": {
      "text/plain": [
       "['D', 't', ' Science M', 'sters']"
      ]
     },
     "execution_count": 105,
     "metadata": {},
     "output_type": "execute_result"
    }
   ],
   "source": [
    "course_name.split('a')"
   ]
  },
  {
   "cell_type": "code",
   "execution_count": 107,
   "id": "0e1743dc-01a3-43d4-9b43-625558be188a",
   "metadata": {},
   "outputs": [
    {
     "data": {
      "text/plain": [
       "['Data ', 'cience Masters']"
      ]
     },
     "execution_count": 107,
     "metadata": {},
     "output_type": "execute_result"
    }
   ],
   "source": [
    "course_name.split('S')"
   ]
  },
  {
   "cell_type": "code",
   "execution_count": 108,
   "id": "b15bc973-6f06-4cc8-b1d9-698b043f619b",
   "metadata": {},
   "outputs": [
    {
     "data": {
      "text/plain": [
       "('Data ', 'S', 'cience Masters')"
      ]
     },
     "execution_count": 108,
     "metadata": {},
     "output_type": "execute_result"
    }
   ],
   "source": [
    "course_name.partition('S')"
   ]
  },
  {
   "cell_type": "code",
   "execution_count": 109,
   "id": "27ddd931-132d-4af4-b34c-9e928e4867c3",
   "metadata": {},
   "outputs": [
    {
     "data": {
      "text/plain": [
       "'DATA SCIENCE MASTERS'"
      ]
     },
     "execution_count": 109,
     "metadata": {},
     "output_type": "execute_result"
    }
   ],
   "source": [
    "## String upper and lowercase\n",
    "course_name.upper()"
   ]
  },
  {
   "cell_type": "code",
   "execution_count": 110,
   "id": "1df5c5f4-e168-4054-89fc-967e494e6b49",
   "metadata": {},
   "outputs": [
    {
     "data": {
      "text/plain": [
       "'Data Science Masters'"
      ]
     },
     "execution_count": 110,
     "metadata": {},
     "output_type": "execute_result"
    }
   ],
   "source": [
    "course_name"
   ]
  },
  {
   "cell_type": "code",
   "execution_count": 111,
   "id": "592718c5-697b-4935-bf31-367ff780be8a",
   "metadata": {},
   "outputs": [
    {
     "data": {
      "text/plain": [
       "'dATA sCIENCE mASTERS'"
      ]
     },
     "execution_count": 111,
     "metadata": {},
     "output_type": "execute_result"
    }
   ],
   "source": [
    "course_name.swapcase()"
   ]
  },
  {
   "cell_type": "code",
   "execution_count": 112,
   "id": "224ed788-f853-45fc-bc3f-89ea56e1c662",
   "metadata": {},
   "outputs": [
    {
     "data": {
      "text/plain": [
       "'data science masters'"
      ]
     },
     "execution_count": 112,
     "metadata": {},
     "output_type": "execute_result"
    }
   ],
   "source": [
    "course_name.lower()"
   ]
  },
  {
   "cell_type": "code",
   "execution_count": 113,
   "id": "2e083f1d-1a4e-4065-9cdf-3c0768840faf",
   "metadata": {},
   "outputs": [
    {
     "data": {
      "text/plain": [
       "'Data Science Masters'"
      ]
     },
     "execution_count": 113,
     "metadata": {},
     "output_type": "execute_result"
    }
   ],
   "source": [
    "course_name.title()"
   ]
  },
  {
   "cell_type": "code",
   "execution_count": 114,
   "id": "b9037353-f25d-4dce-8cb0-5d74c7685f03",
   "metadata": {},
   "outputs": [],
   "source": [
    "name=\"aayush srivastava\""
   ]
  },
  {
   "cell_type": "code",
   "execution_count": 115,
   "id": "d7d0affc-c72f-4d2a-8b4e-98de2eecdc24",
   "metadata": {},
   "outputs": [
    {
     "data": {
      "text/plain": [
       "'Aayush Srivastava'"
      ]
     },
     "execution_count": 115,
     "metadata": {},
     "output_type": "execute_result"
    }
   ],
   "source": [
    "name.title()"
   ]
  },
  {
   "cell_type": "code",
   "execution_count": null,
   "id": "277f16c1-a299-415d-8de1-9a93f74ca5ac",
   "metadata": {},
   "outputs": [],
   "source": []
  },
  {
   "cell_type": "code",
   "execution_count": null,
   "id": "9c584fe1-6c05-4e65-90d2-2c4e8a2eb4d5",
   "metadata": {},
   "outputs": [],
   "source": []
  },
  {
   "cell_type": "code",
   "execution_count": null,
   "id": "ed402eed-39a4-4b03-bba7-20ac9f31cf09",
   "metadata": {},
   "outputs": [],
   "source": []
  },
  {
   "cell_type": "code",
   "execution_count": null,
   "id": "bdaf54ac-eee1-42af-b4a7-dddeb4893f2a",
   "metadata": {},
   "outputs": [],
   "source": []
  },
  {
   "cell_type": "code",
   "execution_count": null,
   "id": "a59584af-f613-43f1-931d-c97b3efb5d56",
   "metadata": {},
   "outputs": [],
   "source": []
  }
 ],
 "metadata": {
  "kernelspec": {
   "display_name": "Python 3 (ipykernel)",
   "language": "python",
   "name": "python3"
  },
  "language_info": {
   "codemirror_mode": {
    "name": "ipython",
    "version": 3
   },
   "file_extension": ".py",
   "mimetype": "text/x-python",
   "name": "python",
   "nbconvert_exporter": "python",
   "pygments_lexer": "ipython3",
   "version": "3.10.8"
  }
 },
 "nbformat": 4,
 "nbformat_minor": 5
}
