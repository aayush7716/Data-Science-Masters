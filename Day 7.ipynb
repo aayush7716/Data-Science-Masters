{
 "cells": [
  {
   "cell_type": "markdown",
   "id": "e57b59b5-ba8f-4e4e-bc31-de8cf7525cd0",
   "metadata": {},
   "source": [
    "# Map, Reduce & Filter Functions."
   ]
  },
  {
   "cell_type": "code",
   "execution_count": 5,
   "id": "e8b9a09c-4b96-46cd-83e2-f5ce94af2c1e",
   "metadata": {},
   "outputs": [],
   "source": [
    "l = [1,2,3,4,45,5]"
   ]
  },
  {
   "cell_type": "code",
   "execution_count": 6,
   "id": "9ca878b0-18b0-4df0-bc7b-f88ff89fd2da",
   "metadata": {},
   "outputs": [],
   "source": [
    "def test(l):\n",
    "    l1 = []\n",
    "    for i in l:\n",
    "        l1.append(i**2)\n",
    "    return l1    "
   ]
  },
  {
   "cell_type": "code",
   "execution_count": 7,
   "id": "ba152d57-1ff9-4683-b6df-da822ae371dc",
   "metadata": {},
   "outputs": [
    {
     "data": {
      "text/plain": [
       "[1, 4, 9, 16, 2025, 25]"
      ]
     },
     "execution_count": 7,
     "metadata": {},
     "output_type": "execute_result"
    }
   ],
   "source": [
    "test(l)"
   ]
  },
  {
   "cell_type": "code",
   "execution_count": 13,
   "id": "6fdc577b-134b-4a95-a9a5-30ac9d83df3b",
   "metadata": {},
   "outputs": [],
   "source": [
    "def sq(x):\n",
    "    return x**2"
   ]
  },
  {
   "cell_type": "code",
   "execution_count": 15,
   "id": "70076019-07dc-4c41-b2d0-637765ed88c7",
   "metadata": {},
   "outputs": [
    {
     "data": {
      "text/plain": [
       "<map at 0x7f2d981a4430>"
      ]
     },
     "execution_count": 15,
     "metadata": {},
     "output_type": "execute_result"
    }
   ],
   "source": [
    "map(sq , l)"
   ]
  },
  {
   "cell_type": "code",
   "execution_count": 16,
   "id": "84e8ab34-2dea-4ccb-ad65-161c8404d6cf",
   "metadata": {},
   "outputs": [
    {
     "data": {
      "text/plain": [
       "[1, 4, 9, 16, 2025, 25]"
      ]
     },
     "execution_count": 16,
     "metadata": {},
     "output_type": "execute_result"
    }
   ],
   "source": [
    "list(map(sq , l))"
   ]
  },
  {
   "cell_type": "code",
   "execution_count": 17,
   "id": "ecbcbaee-04d1-49dc-a775-a78c3f403bb2",
   "metadata": {},
   "outputs": [
    {
     "data": {
      "text/plain": [
       "[1, 4, 9, 16, 2025, 25]"
      ]
     },
     "execution_count": 17,
     "metadata": {},
     "output_type": "execute_result"
    }
   ],
   "source": [
    "list(map(lambda x : x**2 , l ))"
   ]
  },
  {
   "cell_type": "code",
   "execution_count": 18,
   "id": "7928c007-93fe-4e79-a5c5-f96aa6e901d2",
   "metadata": {},
   "outputs": [
    {
     "data": {
      "text/plain": [
       "[11, 12, 13, 14, 55, 15]"
      ]
     },
     "execution_count": 18,
     "metadata": {},
     "output_type": "execute_result"
    }
   ],
   "source": [
    "list(map(lambda x : x+10 , l ))"
   ]
  },
  {
   "cell_type": "code",
   "execution_count": 19,
   "id": "4d694010-8eb3-4233-89a4-8a603e224dcc",
   "metadata": {},
   "outputs": [
    {
     "data": {
      "text/plain": [
       "['1', '2', '3', '4', '45', '5']"
      ]
     },
     "execution_count": 19,
     "metadata": {},
     "output_type": "execute_result"
    }
   ],
   "source": [
    "list(map(lambda x : str(x) , l ))"
   ]
  },
  {
   "cell_type": "code",
   "execution_count": 20,
   "id": "a6031bd1-8cae-406d-89fe-c291393d91e4",
   "metadata": {},
   "outputs": [],
   "source": [
    "l1 = [1,2,3,4,5]\n",
    "l2 = [6,7,8,9,10]"
   ]
  },
  {
   "cell_type": "code",
   "execution_count": 21,
   "id": "1cbb43e1-ae25-4d22-9238-816061d953b6",
   "metadata": {},
   "outputs": [
    {
     "data": {
      "text/plain": [
       "[7, 9, 11, 13, 15]"
      ]
     },
     "execution_count": 21,
     "metadata": {},
     "output_type": "execute_result"
    }
   ],
   "source": [
    "list(map(lambda x,y : x+y , l1,l2))"
   ]
  },
  {
   "cell_type": "code",
   "execution_count": 23,
   "id": "2c2df31e-4509-48b9-8a70-ce157806c183",
   "metadata": {},
   "outputs": [
    {
     "data": {
      "text/plain": [
       "[7, 9, 11, 13, 15]"
      ]
     },
     "execution_count": 23,
     "metadata": {},
     "output_type": "execute_result"
    }
   ],
   "source": [
    "list(map(f , l1,l2))"
   ]
  },
  {
   "cell_type": "code",
   "execution_count": 22,
   "id": "4c419101-c3c0-4ce9-b358-65ef60dc3660",
   "metadata": {},
   "outputs": [],
   "source": [
    "f= lambda x,y : x+y"
   ]
  },
  {
   "cell_type": "code",
   "execution_count": 24,
   "id": "1f463f2f-998f-4185-af82-a9e0614a547f",
   "metadata": {},
   "outputs": [],
   "source": [
    "s = \"aayushsrivastava\""
   ]
  },
  {
   "cell_type": "code",
   "execution_count": 25,
   "id": "533f1cc0-f50d-4fc8-825e-3fa95e343be3",
   "metadata": {},
   "outputs": [
    {
     "data": {
      "text/plain": [
       "['A',\n",
       " 'A',\n",
       " 'Y',\n",
       " 'U',\n",
       " 'S',\n",
       " 'H',\n",
       " 'S',\n",
       " 'R',\n",
       " 'I',\n",
       " 'V',\n",
       " 'A',\n",
       " 'S',\n",
       " 'T',\n",
       " 'A',\n",
       " 'V',\n",
       " 'A']"
      ]
     },
     "execution_count": 25,
     "metadata": {},
     "output_type": "execute_result"
    }
   ],
   "source": [
    "list(map(lambda x : x.upper() , s))"
   ]
  },
  {
   "cell_type": "code",
   "execution_count": 26,
   "id": "9b3f2dd6-9e92-4f4f-a2d8-86ad81a6a8fb",
   "metadata": {},
   "outputs": [],
   "source": [
    "from functools import reduce"
   ]
  },
  {
   "cell_type": "code",
   "execution_count": 27,
   "id": "e298ce87-e82b-487f-be19-43ae2989007a",
   "metadata": {},
   "outputs": [],
   "source": [
    "l = [1,2,3,4,5,6]"
   ]
  },
  {
   "cell_type": "code",
   "execution_count": 28,
   "id": "07ee3f11-e7ea-4e77-be8b-d3fd4a7e3f9a",
   "metadata": {},
   "outputs": [
    {
     "data": {
      "text/plain": [
       "21"
      ]
     },
     "execution_count": 28,
     "metadata": {},
     "output_type": "execute_result"
    }
   ],
   "source": [
    "reduce(lambda x,y : x+y , l)"
   ]
  },
  {
   "cell_type": "code",
   "execution_count": 29,
   "id": "79b535d7-0fd4-42bc-b6aa-574565ed2ca6",
   "metadata": {},
   "outputs": [],
   "source": [
    "def add(x,y):\n",
    "    return x+y"
   ]
  },
  {
   "cell_type": "code",
   "execution_count": 31,
   "id": "664cbad9-bf27-4b26-8b0c-21e374971671",
   "metadata": {},
   "outputs": [
    {
     "data": {
      "text/plain": [
       "21"
      ]
     },
     "execution_count": 31,
     "metadata": {},
     "output_type": "execute_result"
    }
   ],
   "source": [
    "reduce (add,l)"
   ]
  },
  {
   "cell_type": "code",
   "execution_count": 32,
   "id": "77778abd-cf01-4b59-91f5-9d39504ceb99",
   "metadata": {},
   "outputs": [
    {
     "ename": "TypeError",
     "evalue": "<lambda>() missing 1 required positional argument: 'z'",
     "output_type": "error",
     "traceback": [
      "\u001b[0;31m---------------------------------------------------------------------------\u001b[0m",
      "\u001b[0;31mTypeError\u001b[0m                                 Traceback (most recent call last)",
      "Cell \u001b[0;32mIn[32], line 1\u001b[0m\n\u001b[0;32m----> 1\u001b[0m \u001b[43mreduce\u001b[49m\u001b[43m(\u001b[49m\u001b[38;5;28;43;01mlambda\u001b[39;49;00m\u001b[43m \u001b[49m\u001b[43mx\u001b[49m\u001b[43m,\u001b[49m\u001b[43my\u001b[49m\u001b[43m,\u001b[49m\u001b[43mz\u001b[49m\u001b[43m \u001b[49m\u001b[43m:\u001b[49m\u001b[43m \u001b[49m\u001b[43mx\u001b[49m\u001b[38;5;241;43m+\u001b[39;49m\u001b[43my\u001b[49m\u001b[38;5;241;43m+\u001b[39;49m\u001b[43mz\u001b[49m\u001b[43m \u001b[49m\u001b[43m,\u001b[49m\u001b[43m \u001b[49m\u001b[43ml\u001b[49m\u001b[43m)\u001b[49m\n",
      "\u001b[0;31mTypeError\u001b[0m: <lambda>() missing 1 required positional argument: 'z'"
     ]
    }
   ],
   "source": [
    "reduce(lambda x,y,z : x+y+z , l)"
   ]
  },
  {
   "cell_type": "code",
   "execution_count": 33,
   "id": "73a4bba7-4667-4144-aa51-5fbb812593eb",
   "metadata": {},
   "outputs": [
    {
     "data": {
      "text/plain": [
       "[1, 2, 3, 4, 5, 6]"
      ]
     },
     "execution_count": 33,
     "metadata": {},
     "output_type": "execute_result"
    }
   ],
   "source": [
    "l"
   ]
  },
  {
   "cell_type": "code",
   "execution_count": 34,
   "id": "7149374b-cf20-4988-ad78-06eebad06019",
   "metadata": {},
   "outputs": [
    {
     "ename": "TypeError",
     "evalue": "reduce() of empty iterable with no initial value",
     "output_type": "error",
     "traceback": [
      "\u001b[0;31m---------------------------------------------------------------------------\u001b[0m",
      "\u001b[0;31mTypeError\u001b[0m                                 Traceback (most recent call last)",
      "Cell \u001b[0;32mIn[34], line 1\u001b[0m\n\u001b[0;32m----> 1\u001b[0m \u001b[43mreduce\u001b[49m\u001b[43m(\u001b[49m\u001b[38;5;28;43;01mlambda\u001b[39;49;00m\u001b[43m \u001b[49m\u001b[43mx\u001b[49m\u001b[43m,\u001b[49m\u001b[43my\u001b[49m\u001b[43m \u001b[49m\u001b[43m:\u001b[49m\u001b[43m \u001b[49m\u001b[43mx\u001b[49m\u001b[38;5;241;43m+\u001b[39;49m\u001b[43my\u001b[49m\u001b[43m \u001b[49m\u001b[43m,\u001b[49m\u001b[43m \u001b[49m\u001b[43m[\u001b[49m\u001b[43m]\u001b[49m\u001b[43m)\u001b[49m\n",
      "\u001b[0;31mTypeError\u001b[0m: reduce() of empty iterable with no initial value"
     ]
    }
   ],
   "source": [
    "reduce(lambda x,y : x+y , [])"
   ]
  },
  {
   "cell_type": "code",
   "execution_count": 36,
   "id": "381689bd-0b6d-477f-9701-8a396a5beabb",
   "metadata": {},
   "outputs": [
    {
     "data": {
      "text/plain": [
       "1"
      ]
     },
     "execution_count": 36,
     "metadata": {},
     "output_type": "execute_result"
    }
   ],
   "source": [
    "reduce(lambda x,y : x+y , [1]) #exceptional case"
   ]
  },
  {
   "cell_type": "code",
   "execution_count": 37,
   "id": "b22e489b-144a-4a08-b13a-6220463ff9e2",
   "metadata": {},
   "outputs": [
    {
     "data": {
      "text/plain": [
       "[1, 2, 3, 4, 5, 6]"
      ]
     },
     "execution_count": 37,
     "metadata": {},
     "output_type": "execute_result"
    }
   ],
   "source": [
    "l"
   ]
  },
  {
   "cell_type": "code",
   "execution_count": 38,
   "id": "5b35de1d-67f7-414f-ad2d-93710e4322bf",
   "metadata": {},
   "outputs": [
    {
     "data": {
      "text/plain": [
       "6"
      ]
     },
     "execution_count": 38,
     "metadata": {},
     "output_type": "execute_result"
    }
   ],
   "source": [
    "reduce(lambda x,y : x if x>y else y , l)"
   ]
  },
  {
   "cell_type": "code",
   "execution_count": 39,
   "id": "92c48a17-66e2-40fb-82ce-8fd29f3ea835",
   "metadata": {},
   "outputs": [
    {
     "data": {
      "text/plain": [
       "[1, 2, 3, 4, 5, 6]"
      ]
     },
     "execution_count": 39,
     "metadata": {},
     "output_type": "execute_result"
    }
   ],
   "source": [
    "l"
   ]
  },
  {
   "cell_type": "code",
   "execution_count": 41,
   "id": "55c48f44-6966-48f6-9abf-5b03b4ace879",
   "metadata": {},
   "outputs": [
    {
     "data": {
      "text/plain": [
       "[2, 4, 6]"
      ]
     },
     "execution_count": 41,
     "metadata": {},
     "output_type": "execute_result"
    }
   ],
   "source": [
    "list(filter(lambda x : x%2==0 , l))"
   ]
  },
  {
   "cell_type": "code",
   "execution_count": 42,
   "id": "d9e3a386-a2f9-4886-8154-0a8bd299afbe",
   "metadata": {},
   "outputs": [
    {
     "data": {
      "text/plain": [
       "[1, 3, 5]"
      ]
     },
     "execution_count": 42,
     "metadata": {},
     "output_type": "execute_result"
    }
   ],
   "source": [
    "list(filter(lambda x : x%2!=0 , l))"
   ]
  },
  {
   "cell_type": "code",
   "execution_count": 43,
   "id": "3278524f-836a-4a3e-8f58-10b0f88cc40d",
   "metadata": {},
   "outputs": [],
   "source": [
    "l1 = [-2,4,5,6,-3,-6,-7]"
   ]
  },
  {
   "cell_type": "code",
   "execution_count": 44,
   "id": "39b359c8-c9b0-4be5-8e53-32fbbecab5c0",
   "metadata": {},
   "outputs": [
    {
     "data": {
      "text/plain": [
       "[-2, -3, -6, -7]"
      ]
     },
     "execution_count": 44,
     "metadata": {},
     "output_type": "execute_result"
    }
   ],
   "source": [
    "list(filter(lambda x : x<0 , l1))"
   ]
  },
  {
   "cell_type": "code",
   "execution_count": 45,
   "id": "5f90b593-4c2f-4ed4-a7c6-da9301f321c0",
   "metadata": {},
   "outputs": [
    {
     "data": {
      "text/plain": [
       "[4, 5, 6]"
      ]
     },
     "execution_count": 45,
     "metadata": {},
     "output_type": "execute_result"
    }
   ],
   "source": [
    "list(filter(lambda x : x>0 , l1))"
   ]
  },
  {
   "cell_type": "code",
   "execution_count": 46,
   "id": "67b44ae1-33c8-46b6-a7ec-78c7ef8e578b",
   "metadata": {},
   "outputs": [],
   "source": [
    "l2 = [\"aayush\",\"srivastava\",\"pwskills\",\"lucknow\",\"yashu\"]"
   ]
  },
  {
   "cell_type": "code",
   "execution_count": 47,
   "id": "38a8b2dd-80c9-4890-85e6-1366315f9a52",
   "metadata": {},
   "outputs": [
    {
     "data": {
      "text/plain": [
       "['yashu']"
      ]
     },
     "execution_count": 47,
     "metadata": {},
     "output_type": "execute_result"
    }
   ],
   "source": [
    "list(filter(lambda x : len(x) <6 ,l2))"
   ]
  }
 ],
 "metadata": {
  "kernelspec": {
   "display_name": "Python 3 (ipykernel)",
   "language": "python",
   "name": "python3"
  },
  "language_info": {
   "codemirror_mode": {
    "name": "ipython",
    "version": 3
   },
   "file_extension": ".py",
   "mimetype": "text/x-python",
   "name": "python",
   "nbconvert_exporter": "python",
   "pygments_lexer": "ipython3",
   "version": "3.10.8"
  }
 },
 "nbformat": 4,
 "nbformat_minor": 5
}
