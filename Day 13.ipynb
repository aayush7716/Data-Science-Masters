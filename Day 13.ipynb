{
 "cells": [
  {
   "cell_type": "markdown",
   "id": "53c87e5d-eca3-4dce-9d1e-a7d99959a0aa",
   "metadata": {},
   "source": [
    "# List of General use Exceptions"
   ]
  },
  {
   "cell_type": "code",
   "execution_count": 2,
   "id": "2f9fcab8-2cf6-4cfb-90c7-afbc09efa0b9",
   "metadata": {},
   "outputs": [],
   "source": [
    "try :\n",
    "    a = 10\n",
    "    10/a\n",
    "except ZeroDivisionError as e :\n",
    "        print(e)"
   ]
  },
  {
   "cell_type": "code",
   "execution_count": 3,
   "id": "39cc7d87-fabb-4677-8bd6-f2c8d508ba1e",
   "metadata": {},
   "outputs": [
    {
     "name": "stdout",
     "output_type": "stream",
     "text": [
      "invalid literal for int() with base 10: 'sudh'\n"
     ]
    }
   ],
   "source": [
    "try :\n",
    "    int(\"sudh\")\n",
    "except (ValueError , TypeError) as e:\n",
    "    print(e)"
   ]
  },
  {
   "cell_type": "code",
   "execution_count": 4,
   "id": "43e596e1-7583-4fd5-828c-bbdf581e6502",
   "metadata": {},
   "outputs": [
    {
     "name": "stdout",
     "output_type": "stream",
     "text": [
      "this will catch an error\n"
     ]
    }
   ],
   "source": [
    "try :\n",
    "    int(\"sudh\")\n",
    "except :\n",
    "    print(\"this will catch an error\")"
   ]
  },
  {
   "cell_type": "code",
   "execution_count": 5,
   "id": "65cd9a40-593d-4f4f-9b90-201b670024fb",
   "metadata": {},
   "outputs": [
    {
     "name": "stdout",
     "output_type": "stream",
     "text": [
      "No module named 'aayush'\n"
     ]
    }
   ],
   "source": [
    "try :\n",
    "    import aayush\n",
    "except ImportError as e:\n",
    "    print(e)"
   ]
  },
  {
   "cell_type": "code",
   "execution_count": 7,
   "id": "8ccc8984-908b-48fa-8625-b3eb9077ecd3",
   "metadata": {},
   "outputs": [
    {
     "name": "stdout",
     "output_type": "stream",
     "text": [
      "'key10'\n"
     ]
    }
   ],
   "source": [
    "try :\n",
    "    d = {1: [3,4,5,6] , \"key\" :\"sudh\"}\n",
    "    d[\"key10\"]\n",
    "except KeyError as e :\n",
    "    print(e)"
   ]
  },
  {
   "cell_type": "code",
   "execution_count": 8,
   "id": "11cefdf2-cf19-4023-a280-a772356e253d",
   "metadata": {},
   "outputs": [
    {
     "name": "stdout",
     "output_type": "stream",
     "text": [
      "'str' object has no attribute 'test'\n"
     ]
    }
   ],
   "source": [
    "try :\n",
    "    \"aayush\".test()\n",
    "except AttributeError as e :\n",
    "    print(e)"
   ]
  },
  {
   "cell_type": "code",
   "execution_count": 9,
   "id": "b1e3ee4b-152f-4204-9e23-93541365bae8",
   "metadata": {},
   "outputs": [
    {
     "name": "stdout",
     "output_type": "stream",
     "text": [
      "list index out of range\n"
     ]
    }
   ],
   "source": [
    "try :\n",
    "    l = [1,2,3,4]\n",
    "    l[10]\n",
    "except IndexError as e :\n",
    "    print (e)"
   ]
  },
  {
   "cell_type": "code",
   "execution_count": 10,
   "id": "0f4a35a8-b19b-425d-aa43-4e1d52f124d1",
   "metadata": {},
   "outputs": [
    {
     "name": "stdout",
     "output_type": "stream",
     "text": [
      "unsupported operand type(s) for +: 'int' and 'str'\n"
     ]
    }
   ],
   "source": [
    "try :\n",
    "    123 + \"aayush\"\n",
    "except TypeError as e :\n",
    "    print(e)"
   ]
  },
  {
   "cell_type": "code",
   "execution_count": 11,
   "id": "137c6176-7f48-4294-a267-4eb3494741db",
   "metadata": {},
   "outputs": [
    {
     "name": "stdout",
     "output_type": "stream",
     "text": [
      "[Errno 2] No such file or directory: 'test.txt'\n"
     ]
    }
   ],
   "source": [
    "try :\n",
    "    with open(\"test.txt\",'r') as f:\n",
    "        f.read()\n",
    "except FileNotFoundError as e :\n",
    "    print(e)"
   ]
  },
  {
   "cell_type": "code",
   "execution_count": 12,
   "id": "b2dd0d49-dfe7-4ca3-842f-0cb5c02dbc62",
   "metadata": {},
   "outputs": [
    {
     "name": "stdout",
     "output_type": "stream",
     "text": [
      "[Errno 2] No such file or directory: 'test.txt'\n"
     ]
    }
   ],
   "source": [
    "try :\n",
    "    with open(\"test.txt\",'r') as f:\n",
    "        f.read()\n",
    "except Exception as e :\n",
    "    print(e)\n",
    "except FileNotFoundError as e :\n",
    "    print(e)"
   ]
  },
  {
   "cell_type": "code",
   "execution_count": 17,
   "id": "710a1426-7e09-4992-b1ba-a95c23911458",
   "metadata": {},
   "outputs": [
    {
     "name": "stdout",
     "output_type": "stream",
     "text": [
      "test [Errno 2] No such file or directory: 'test.txt'\n"
     ]
    }
   ],
   "source": [
    "try :\n",
    "    with open(\"test.txt\",'r') as f:\n",
    "        f.read()\n",
    "except Exception as e :\n",
    "    print(\"test\",e)\n",
    "except FileNotFoundError as e :\n",
    "    print(\"this is my file not found type error\",e)"
   ]
  },
  {
   "cell_type": "code",
   "execution_count": null,
   "id": "9ac3a29e-f389-4255-95d2-ef22678d0436",
   "metadata": {},
   "outputs": [],
   "source": [
    "# Exception is a Superclass"
   ]
  },
  {
   "cell_type": "code",
   "execution_count": null,
   "id": "0257dea4-60fe-4db5-86d6-954fecf7e4d8",
   "metadata": {},
   "outputs": [],
   "source": [
    "# Never write a superclasss in a first place. Always try to write generic or specific exceptions and then superclass if we have a doubt that it will not be able to handle."
   ]
  },
  {
   "cell_type": "code",
   "execution_count": 19,
   "id": "64f191df-d707-4b83-9d12-0dccf696b9a2",
   "metadata": {},
   "outputs": [
    {
     "ename": "IndentationError",
     "evalue": "expected an indented block after 'with' statement on line 3 (241188047.py, line 4)",
     "output_type": "error",
     "traceback": [
      "\u001b[0;36m  Cell \u001b[0;32mIn[19], line 4\u001b[0;36m\u001b[0m\n\u001b[0;31m    f.read()\u001b[0m\n\u001b[0m    ^\u001b[0m\n\u001b[0;31mIndentationError\u001b[0m\u001b[0;31m:\u001b[0m expected an indented block after 'with' statement on line 3\n"
     ]
    }
   ],
   "source": [
    "def test(file):\n",
    "    try :\n",
    "        with open(file,'r') as f:\n",
    "        f.read()\n",
    "    except Exception as e :\n",
    "        print(\"test\",e)\n",
    "    except FileNotFoundError as e :\n",
    "        print(\"this is my file not found type error\",e)"
   ]
  },
  {
   "cell_type": "markdown",
   "id": "cb1b6c37-3791-41ce-827d-9c466e3c507d",
   "metadata": {},
   "source": [
    "# Best Practice Exception Handling"
   ]
  },
  {
   "cell_type": "code",
   "execution_count": 1,
   "id": "78f78799-5bce-4f77-affc-7971100999c0",
   "metadata": {},
   "outputs": [
    {
     "name": "stdout",
     "output_type": "stream",
     "text": [
      "division by zero\n"
     ]
    }
   ],
   "source": [
    "#use always a specific exception\n",
    "try :\n",
    "    10/0\n",
    "except Exception as e :\n",
    "    print(e)"
   ]
  },
  {
   "cell_type": "code",
   "execution_count": 2,
   "id": "d441d7e8-a53b-4963-b44d-7493a33d85d0",
   "metadata": {},
   "outputs": [
    {
     "name": "stdout",
     "output_type": "stream",
     "text": [
      "division by zero\n"
     ]
    }
   ],
   "source": [
    "try :\n",
    "    10/0\n",
    "except ZeroDivisionError as e :\n",
    "    print(e)"
   ]
  },
  {
   "cell_type": "code",
   "execution_count": 3,
   "id": "9482a597-815a-4681-9554-6d50bf831b81",
   "metadata": {},
   "outputs": [
    {
     "name": "stdout",
     "output_type": "stream",
     "text": [
      "this is my zero division error i am handling division by zero\n"
     ]
    }
   ],
   "source": [
    "#print always a valid message\n",
    "try :\n",
    "    10/0\n",
    "except Exception as e :\n",
    "    print(\"this is my zero division error i am handling\",e)"
   ]
  },
  {
   "cell_type": "code",
   "execution_count": 4,
   "id": "2c1503c8-1f35-4e8d-994d-e3fae5c3bdfb",
   "metadata": {},
   "outputs": [],
   "source": [
    "#always try to log\n",
    "import logging\n",
    "logging.basicConfig(filename = \"error.log\", level = logging.ERROR)\n",
    "try :\n",
    "    10/0\n",
    "except Exception as e :\n",
    "    logging.error(\"this is my zero division error i am handling {} \".format( e))"
   ]
  },
  {
   "cell_type": "code",
   "execution_count": 5,
   "id": "9e7dc40c-b706-4800-96ad-ecf2368a6e90",
   "metadata": {},
   "outputs": [],
   "source": [
    "#always avoid to write a multiple exception handling\n",
    "try :\n",
    "    10/0\n",
    "except FileNotFoundError as e :\n",
    "    logging.error(\"this is my file not found {}\".format(e))\n",
    "except AttributeError as e :\n",
    "    logging.error(\"this is my attribute error {}\".format(e))\n",
    "except ZeroDivisionError as e :\n",
    "    logging.error(\"this is my zero division error i am handling {}\".format(e))"
   ]
  },
  {
   "cell_type": "code",
   "execution_count": null,
   "id": "0ddb6db5-ea43-4bf9-ab85-901fe7f3c05f",
   "metadata": {},
   "outputs": [],
   "source": [
    "#prepare a proper documentation"
   ]
  },
  {
   "cell_type": "code",
   "execution_count": null,
   "id": "ddb6a5df-844f-4142-98b0-d496cc6fbc09",
   "metadata": {},
   "outputs": [],
   "source": [
    "#cleanup all the resources\n",
    "\n",
    "try:\n",
    "    with open(\"test.txt\",\"w\") as f:\n",
    "        f.write(\"this is my message to file\")\n",
    "except FileNotFoundError as e:\n",
    "    logging.error(\"this is my file not found {}\".format(e))\n",
    "finally :\n",
    "    f.close()"
   ]
  },
  {
   "cell_type": "code",
   "execution_count": null,
   "id": "77032c39-8ccf-4c14-a2bd-d1b351ca93df",
   "metadata": {},
   "outputs": [],
   "source": []
  },
  {
   "cell_type": "code",
   "execution_count": null,
   "id": "35c89ecf-e40a-45b0-9707-89ebd4acc8b3",
   "metadata": {},
   "outputs": [],
   "source": []
  },
  {
   "cell_type": "code",
   "execution_count": null,
   "id": "777f0c17-3884-4c11-a139-7d0a437a23bf",
   "metadata": {},
   "outputs": [],
   "source": []
  },
  {
   "cell_type": "code",
   "execution_count": null,
   "id": "152b7681-eb58-4652-bc04-6be9e9acba6f",
   "metadata": {},
   "outputs": [],
   "source": []
  }
 ],
 "metadata": {
  "kernelspec": {
   "display_name": "Python 3 (ipykernel)",
   "language": "python",
   "name": "python3"
  },
  "language_info": {
   "codemirror_mode": {
    "name": "ipython",
    "version": 3
   },
   "file_extension": ".py",
   "mimetype": "text/x-python",
   "name": "python",
   "nbconvert_exporter": "python",
   "pygments_lexer": "ipython3",
   "version": "3.10.8"
  }
 },
 "nbformat": 4,
 "nbformat_minor": 5
}
