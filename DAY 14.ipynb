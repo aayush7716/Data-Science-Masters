{
 "cells": [
  {
   "cell_type": "markdown",
   "id": "a6c2d57a-6dde-4ef0-b41d-4f5e624861f5",
   "metadata": {},
   "source": [
    "# Multithreading"
   ]
  },
  {
   "cell_type": "code",
   "execution_count": 1,
   "id": "31f29c25-998e-4959-ac09-268c917e7360",
   "metadata": {},
   "outputs": [],
   "source": [
    "import threading"
   ]
  },
  {
   "cell_type": "code",
   "execution_count": 2,
   "id": "4c19fd0d-5d6c-4945-8f20-5626a122dc63",
   "metadata": {},
   "outputs": [],
   "source": [
    "def test(id) :\n",
    "    print(\"this is my test id %d \" % id)"
   ]
  },
  {
   "cell_type": "code",
   "execution_count": 3,
   "id": "61d41f28-2643-4576-97fc-d63eaf59a197",
   "metadata": {},
   "outputs": [
    {
     "name": "stdout",
     "output_type": "stream",
     "text": [
      "this is my test id 10 \n"
     ]
    }
   ],
   "source": [
    "test(10)"
   ]
  },
  {
   "cell_type": "code",
   "execution_count": 4,
   "id": "d34f72d7-8689-4d29-88ae-3d1c7ba2d7e1",
   "metadata": {},
   "outputs": [
    {
     "name": "stdout",
     "output_type": "stream",
     "text": [
      "this is my test id 1 \n"
     ]
    }
   ],
   "source": [
    "test(1)"
   ]
  },
  {
   "cell_type": "code",
   "execution_count": 5,
   "id": "f3cd523c-c82b-4b3c-a528-c9f9849d4831",
   "metadata": {},
   "outputs": [
    {
     "name": "stdout",
     "output_type": "stream",
     "text": [
      "this is my test id 3 \n"
     ]
    }
   ],
   "source": [
    "test(3)"
   ]
  },
  {
   "cell_type": "code",
   "execution_count": 6,
   "id": "af1c31e1-2633-413a-87b3-15cff7cee56b",
   "metadata": {},
   "outputs": [],
   "source": [
    "thread = [threading.Thread(target=test , args = (i,)) for i in [10 , 1 ,3]]"
   ]
  },
  {
   "cell_type": "code",
   "execution_count": 7,
   "id": "ddd51413-0735-4bf4-8ea9-a614b19d5c51",
   "metadata": {},
   "outputs": [
    {
     "data": {
      "text/plain": [
       "[<Thread(Thread-5 (test), initial)>,\n",
       " <Thread(Thread-6 (test), initial)>,\n",
       " <Thread(Thread-7 (test), initial)>]"
      ]
     },
     "execution_count": 7,
     "metadata": {},
     "output_type": "execute_result"
    }
   ],
   "source": [
    "thread"
   ]
  },
  {
   "cell_type": "code",
   "execution_count": 8,
   "id": "dd6b31a0-5a26-4d5d-bc8d-e0864165df5d",
   "metadata": {},
   "outputs": [
    {
     "name": "stdout",
     "output_type": "stream",
     "text": [
      "this is my test id 10 \n",
      "this is my test id 1 \n",
      "this is my test id 3 \n"
     ]
    }
   ],
   "source": [
    "for t in thread:\n",
    "    t.start()"
   ]
  },
  {
   "cell_type": "code",
   "execution_count": 9,
   "id": "2468249b-c1f2-461e-9df3-7d9b8d4f847e",
   "metadata": {},
   "outputs": [],
   "source": [
    "import urllib.request\n",
    "\n",
    "def file_download(url , filename):\n",
    "    urllib.request.urlretrieve(url, filename)"
   ]
  },
  {
   "cell_type": "code",
   "execution_count": 10,
   "id": "0c1069bf-f25b-4fa5-ab87-66aaa5d8ec77",
   "metadata": {},
   "outputs": [],
   "source": [
    "file_download('https://github.com/aayush7716/Data-Science-Masters/blob/main/DAY%2011.ipynb' , \"test1.txt\")"
   ]
  },
  {
   "cell_type": "code",
   "execution_count": 11,
   "id": "b7b001a7-5169-4a33-b322-fc9d94206da0",
   "metadata": {},
   "outputs": [],
   "source": [
    "url_list = ['https://github.com/aayush7716/Data-Science-Masters/blob/main/DAY%2011.ipynb','https://github.com/aayush7716/Data-Science-Masters/blob/main/DAY%209.ipynb','https://github.com/aayush7716/Data-Science-Masters/blob/main/Day%2013.ipynb']"
   ]
  },
  {
   "cell_type": "code",
   "execution_count": 12,
   "id": "f7707397-1a7f-4dd3-b1ba-f40f91b534de",
   "metadata": {},
   "outputs": [
    {
     "data": {
      "text/plain": [
       "['https://github.com/aayush7716/Data-Science-Masters/blob/main/DAY%2011.ipynb',\n",
       " 'https://github.com/aayush7716/Data-Science-Masters/blob/main/DAY%209.ipynb',\n",
       " 'https://github.com/aayush7716/Data-Science-Masters/blob/main/Day%2013.ipynb']"
      ]
     },
     "execution_count": 12,
     "metadata": {},
     "output_type": "execute_result"
    }
   ],
   "source": [
    "url_list"
   ]
  },
  {
   "cell_type": "code",
   "execution_count": 13,
   "id": "609ad8f8-ecd8-4ef4-a592-64480943276c",
   "metadata": {},
   "outputs": [],
   "source": [
    "data_file_list = ['data1.txt','data2.txt','data3.txt']"
   ]
  },
  {
   "cell_type": "code",
   "execution_count": 14,
   "id": "aed79167-3722-4387-8462-0ace74301066",
   "metadata": {},
   "outputs": [
    {
     "data": {
      "text/plain": [
       "['data1.txt', 'data2.txt', 'data3.txt']"
      ]
     },
     "execution_count": 14,
     "metadata": {},
     "output_type": "execute_result"
    }
   ],
   "source": [
    "data_file_list"
   ]
  },
  {
   "cell_type": "code",
   "execution_count": 18,
   "id": "ff5ee3e1-211d-4554-b1e6-0479d6d95d10",
   "metadata": {},
   "outputs": [],
   "source": [
    "thread1 = [threading.Thread(target=file_download , args =(url_list[i],data_file_list[i])) for i in range (len(url_list))]"
   ]
  },
  {
   "cell_type": "code",
   "execution_count": 19,
   "id": "18717386-281c-4f57-8578-5d96b9f88372",
   "metadata": {},
   "outputs": [],
   "source": [
    "for t in thread1:\n",
    "    t.start()"
   ]
  },
  {
   "cell_type": "code",
   "execution_count": 20,
   "id": "95e46f52-b318-480a-b518-f65686c6ef91",
   "metadata": {},
   "outputs": [
    {
     "data": {
      "text/plain": [
       "[<Thread(Thread-8 (file_download), stopped 140195810747968)>,\n",
       " <Thread(Thread-9 (file_download), stopped 140195248731712)>,\n",
       " <Thread(Thread-10 (file_download), stopped 140195240339008)>]"
      ]
     },
     "execution_count": 20,
     "metadata": {},
     "output_type": "execute_result"
    }
   ],
   "source": [
    "thread1"
   ]
  },
  {
   "cell_type": "code",
   "execution_count": 30,
   "id": "852d09b8-27db-4cd4-9541-0857744935ef",
   "metadata": {},
   "outputs": [],
   "source": [
    "import time"
   ]
  },
  {
   "cell_type": "code",
   "execution_count": 31,
   "id": "7e76295a-3040-4244-b0fd-c0b8cd925690",
   "metadata": {},
   "outputs": [],
   "source": [
    "def test2(x):\n",
    "    for i in range(10):\n",
    "        print(\"test1 print the value of x %d and print the value of i %d\" %(x,i))"
   ]
  },
  {
   "cell_type": "code",
   "execution_count": 32,
   "id": "55b4d085-8c01-4779-8b28-bbf6c7956cb5",
   "metadata": {},
   "outputs": [
    {
     "name": "stdout",
     "output_type": "stream",
     "text": [
      "test1 print the value of x 10 and print the value of i 0\n",
      "test1 print the value of x 10 and print the value of i 1\n",
      "test1 print the value of x 10 and print the value of i 2\n",
      "test1 print the value of x 10 and print the value of i 3\n",
      "test1 print the value of x 10 and print the value of i 4\n",
      "test1 print the value of x 10 and print the value of i 5\n",
      "test1 print the value of x 10 and print the value of i 6\n",
      "test1 print the value of x 10 and print the value of i 7\n",
      "test1 print the value of x 10 and print the value of i 8\n",
      "test1 print the value of x 10 and print the value of i 9\n"
     ]
    }
   ],
   "source": [
    "test2(10)"
   ]
  },
  {
   "cell_type": "code",
   "execution_count": 33,
   "id": "ed60746f-f1b4-492f-9cb6-af53ce177e2a",
   "metadata": {},
   "outputs": [
    {
     "name": "stdout",
     "output_type": "stream",
     "text": [
      "test1 print the value of x 2 and print the value of i 0\n",
      "test1 print the value of x 2 and print the value of i 1\n",
      "test1 print the value of x 2 and print the value of i 2\n",
      "test1 print the value of x 2 and print the value of i 3\n",
      "test1 print the value of x 2 and print the value of i 4\n",
      "test1 print the value of x 2 and print the value of i 5\n",
      "test1 print the value of x 2 and print the value of i 6\n",
      "test1 print the value of x 2 and print the value of i 7\n",
      "test1 print the value of x 2 and print the value of i 8\n",
      "test1 print the value of x 2 and print the value of i 9\n"
     ]
    }
   ],
   "source": [
    "test2(2)"
   ]
  },
  {
   "cell_type": "code",
   "execution_count": 34,
   "id": "e1df398d-635e-4c11-a878-1e866b0626b1",
   "metadata": {},
   "outputs": [],
   "source": [
    "def test2(x):\n",
    "    for i in range(10):\n",
    "        print(\"test1 print the value of x %d and print the value of i %d\" %(x,i))\n",
    "        time.sleep(1)"
   ]
  },
  {
   "cell_type": "code",
   "execution_count": 38,
   "id": "83390398-b227-4b2a-ae3c-c6265af1d6e9",
   "metadata": {},
   "outputs": [],
   "source": [
    "thread2 = [threading.Thread(target=test2 , args=(i,)) for i in [100,10,20,5]]"
   ]
  },
  {
   "cell_type": "code",
   "execution_count": 39,
   "id": "88673d59-9b14-44c7-80e6-ca7988591762",
   "metadata": {},
   "outputs": [
    {
     "name": "stdout",
     "output_type": "stream",
     "text": [
      "test1 print the value of x 100 and print the value of i 0\n",
      "test1 print the value of x 10 and print the value of i 0\n",
      "test1 print the value of x 20 and print the value of i 0\n",
      "test1 print the value of x 5 and print the value of i 0\n",
      "test1 print the value of x 100 and print the value of i 1\n",
      "test1 print the value of x 10 and print the value of i 1\n",
      "test1 print the value of x 20 and print the value of i 1\n",
      "test1 print the value of x 5 and print the value of i 1\n",
      "test1 print the value of x 100 and print the value of i 2\n",
      "test1 print the value of x 10 and print the value of i 2\n",
      "test1 print the value of x 20 and print the value of i 2\n",
      "test1 print the value of x 5 and print the value of i 2\n",
      "test1 print the value of x 100 and print the value of i 3\n",
      "test1 print the value of x 10 and print the value of i 3\n",
      "test1 print the value of x 20 and print the value of i 3\n",
      "test1 print the value of x 5 and print the value of i 3\n",
      "test1 print the value of x 100 and print the value of i 4\n",
      "test1 print the value of x 10 and print the value of i 4\n",
      "test1 print the value of x 20 and print the value of i 4\n",
      "test1 print the value of x 5 and print the value of i 4\n",
      "test1 print the value of x 100 and print the value of i 5\n",
      "test1 print the value of x 10 and print the value of i 5\n",
      "test1 print the value of x 20 and print the value of i 5\n",
      "test1 print the value of x 5 and print the value of i 5\n",
      "test1 print the value of x 100 and print the value of i 6\n",
      "test1 print the value of x 10 and print the value of i 6\n",
      "test1 print the value of x 20 and print the value of i 6\n",
      "test1 print the value of x 5 and print the value of i 6\n",
      "test1 print the value of x 100 and print the value of i 7\n",
      "test1 print the value of x 10 and print the value of i 7\n",
      "test1 print the value of x 20 and print the value of i 7\n",
      "test1 print the value of x 5 and print the value of i 7\n",
      "test1 print the value of x 100 and print the value of i 8\n",
      "test1 print the value of x 10 and print the value of i 8\n",
      "test1 print the value of x 20 and print the value of i 8\n",
      "test1 print the value of x 5 and print the value of i 8\n",
      "test1 print the value of x 100 and print the value of i 9\n",
      "test1 print the value of x 10 and print the value of i 9\n",
      "test1 print the value of x 20 and print the value of i 9\n",
      "test1 print the value of x 5 and print the value of i 9\n"
     ]
    }
   ],
   "source": [
    "for t in thread2:\n",
    "    t.start()"
   ]
  },
  {
   "cell_type": "code",
   "execution_count": 35,
   "id": "389503fb-5fcf-4b86-ae8e-9940a3aae0bf",
   "metadata": {},
   "outputs": [
    {
     "name": "stdout",
     "output_type": "stream",
     "text": [
      "test1 print the value of x 10 and print the value of i 0\n",
      "test1 print the value of x 10 and print the value of i 1\n",
      "test1 print the value of x 10 and print the value of i 2\n",
      "test1 print the value of x 10 and print the value of i 3\n",
      "test1 print the value of x 10 and print the value of i 4\n",
      "test1 print the value of x 10 and print the value of i 5\n",
      "test1 print the value of x 10 and print the value of i 6\n",
      "test1 print the value of x 10 and print the value of i 7\n",
      "test1 print the value of x 10 and print the value of i 8\n",
      "test1 print the value of x 10 and print the value of i 9\n"
     ]
    }
   ],
   "source": [
    "test2(10)"
   ]
  },
  {
   "cell_type": "code",
   "execution_count": 40,
   "id": "44f30ad5-165b-431d-8770-3ba8a91077a0",
   "metadata": {},
   "outputs": [],
   "source": [
    "def test2(x):\n",
    "    for i in range(10):\n",
    "        print(\"test1 print the value of x %d and print the value of i %d\" %(x,i))\n",
    "        #time.sleep(1)"
   ]
  },
  {
   "cell_type": "code",
   "execution_count": 41,
   "id": "d24a68ac-047c-4e62-b949-70e67cbc6cfe",
   "metadata": {},
   "outputs": [],
   "source": [
    "thread2 = [threading.Thread(target=test2 , args=(i,)) for i in [100,10,20,5]]"
   ]
  },
  {
   "cell_type": "code",
   "execution_count": 42,
   "id": "e13bd99b-1369-468a-9fa9-01dc1f2b2122",
   "metadata": {},
   "outputs": [
    {
     "name": "stdout",
     "output_type": "stream",
     "text": [
      "test1 print the value of x 100 and print the value of i 0\n",
      "test1 print the value of x 100 and print the value of i 1\n",
      "test1 print the value of x 100 and print the value of i 2\n",
      "test1 print the value of x 100 and print the value of i 3\n",
      "test1 print the value of x 100 and print the value of i 4\n",
      "test1 print the value of x 100 and print the value of i 5\n",
      "test1 print the value of x 100 and print the value of i 6\n",
      "test1 print the value of x 100 and print the value of i 7\n",
      "test1 print the value of x 100 and print the value of i 8\n",
      "test1 print the value of x 100 and print the value of i 9\n",
      "test1 print the value of x 10 and print the value of i 0\n",
      "test1 print the value of x 10 and print the value of i 1\n",
      "test1 print the value of x 10 and print the value of i 2\n",
      "test1 print the value of x 10 and print the value of i 3\n",
      "test1 print the value of x 10 and print the value of i 4\n",
      "test1 print the value of x 10 and print the value of i 5\n",
      "test1 print the value of x 10 and print the value of i 6\n",
      "test1 print the value of x 10 and print the value of i 7\n",
      "test1 print the value of x 10 and print the value of i 8\n",
      "test1 print the value of x 10 and print the value of i 9\n",
      "test1 print the value of x 20 and print the value of i 0\n",
      "test1 print the value of x 20 and print the value of i 1\n",
      "test1 print the value of x 20 and print the value of i 2\n",
      "test1 print the value of x 20 and print the value of i 3\n",
      "test1 print the value of x 20 and print the value of i 4\n",
      "test1 print the value of x 20 and print the value of i 5\n",
      "test1 print the value of x 20 and print the value of i 6\n",
      "test1 print the value of x 20 and print the value of i 7\n",
      "test1 print the value of x 20 and print the value of i 8\n",
      "test1 print the value of x 20 and print the value of i 9\n",
      "test1 print the value of x 5 and print the value of i 0\n",
      "test1 print the value of x 5 and print the value of i 1\n",
      "test1 print the value of x 5 and print the value of i 2\n",
      "test1 print the value of x 5 and print the value of i 3\n",
      "test1 print the value of x 5 and print the value of i 4\n",
      "test1 print the value of x 5 and print the value of i 5\n",
      "test1 print the value of x 5 and print the value of i 6\n",
      "test1 print the value of x 5 and print the value of i 7\n",
      "test1 print the value of x 5 and print the value of i 8\n",
      "test1 print the value of x 5 and print the value of i 9\n"
     ]
    }
   ],
   "source": [
    "for t in thread2:\n",
    "    t.start()"
   ]
  },
  {
   "cell_type": "code",
   "execution_count": 53,
   "id": "aab65dd1-e409-4810-8e1e-8cfc37c7487a",
   "metadata": {},
   "outputs": [
    {
     "name": "stdout",
     "output_type": "stream",
     "text": [
      "value of x 1 and value of shared_var 1\n",
      "value of x 2 and value of shared_var 2\n",
      "value of x 3 and value of shared_var 3\n",
      "value of x 4 and value of shared_var 4\n",
      "value of x 4 and value of shared_var 5\n",
      "value of x 5 and value of shared_var 6\n"
     ]
    }
   ],
   "source": [
    "shared_var = 0\n",
    "lock_var = threading.Lock()\n",
    "def test3(x) :\n",
    "    global shared_var\n",
    "    with lock_var :\n",
    "        shared_var = shared_var + 1\n",
    "        print(\"value of x %d and value of shared_var %d\" %(x, shared_var))\n",
    "        time.sleep(1)\n",
    "        \n",
    "thread5 = [threading.Thread(target=test3 , args = (i,)) for i in [1,2,3,4,4,5]]\n",
    "for t in thread5 :\n",
    "    t.start()"
   ]
  },
  {
   "cell_type": "code",
   "execution_count": 48,
   "id": "94d23231-acb5-4c26-8ddb-ae3d9ee7710a",
   "metadata": {},
   "outputs": [
    {
     "name": "stdout",
     "output_type": "stream",
     "text": [
      "value of x 1 and value of shared_var 1\n"
     ]
    }
   ],
   "source": [
    "test3(1)"
   ]
  },
  {
   "cell_type": "code",
   "execution_count": 49,
   "id": "e5931826-11c5-4267-ada0-0e2273591fc1",
   "metadata": {},
   "outputs": [
    {
     "name": "stdout",
     "output_type": "stream",
     "text": [
      "value of x 2 and value of shared_var 2\n"
     ]
    }
   ],
   "source": [
    "test3(2)"
   ]
  },
  {
   "cell_type": "code",
   "execution_count": null,
   "id": "ee8cab87-88f5-40e9-b16c-b85879821655",
   "metadata": {},
   "outputs": [],
   "source": []
  }
 ],
 "metadata": {
  "kernelspec": {
   "display_name": "Python 3 (ipykernel)",
   "language": "python",
   "name": "python3"
  },
  "language_info": {
   "codemirror_mode": {
    "name": "ipython",
    "version": 3
   },
   "file_extension": ".py",
   "mimetype": "text/x-python",
   "name": "python",
   "nbconvert_exporter": "python",
   "pygments_lexer": "ipython3",
   "version": "3.10.8"
  }
 },
 "nbformat": 4,
 "nbformat_minor": 5
}
