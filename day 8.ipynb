{
 "cells": [
  {
   "cell_type": "markdown",
   "id": "25242da4-5cc5-4fe6-932e-ce941c7689e2",
   "metadata": {},
   "source": [
    "# Oops day 1"
   ]
  },
  {
   "cell_type": "markdown",
   "id": "629b6c76-c8f5-4d7a-9c2f-446a721e43c0",
   "metadata": {},
   "source": [
    "## \"Oops\" stands for Object-Oriented Programming System"
   ]
  },
  {
   "cell_type": "code",
   "execution_count": 1,
   "id": "24f0c90d-f027-4d93-b7cf-1e606df2c14e",
   "metadata": {},
   "outputs": [],
   "source": [
    "a= 1"
   ]
  },
  {
   "cell_type": "code",
   "execution_count": 2,
   "id": "eecc3799-3a00-46c3-9826-a919e6497956",
   "metadata": {},
   "outputs": [
    {
     "name": "stdout",
     "output_type": "stream",
     "text": [
      "<class 'int'>\n"
     ]
    }
   ],
   "source": [
    "print(type(a))"
   ]
  },
  {
   "cell_type": "code",
   "execution_count": 3,
   "id": "d86bb298-ed65-43fe-8fb5-3cffae525eb0",
   "metadata": {},
   "outputs": [
    {
     "name": "stdout",
     "output_type": "stream",
     "text": [
      "<class 'str'>\n"
     ]
    }
   ],
   "source": [
    "print(type(\"aayushsrivastava\"))"
   ]
  },
  {
   "cell_type": "code",
   "execution_count": 5,
   "id": "94a055ed-7aa2-4e8f-b74d-12a4e88e782f",
   "metadata": {},
   "outputs": [],
   "source": [
    "class test:\n",
    "    pass"
   ]
  },
  {
   "cell_type": "code",
   "execution_count": 6,
   "id": "5073a5fa-3afe-443e-b095-1f894ba7b1c7",
   "metadata": {},
   "outputs": [],
   "source": [
    "a = test()"
   ]
  },
  {
   "cell_type": "code",
   "execution_count": 8,
   "id": "d72b16da-0350-44ba-ae0b-451cb438d2ac",
   "metadata": {},
   "outputs": [
    {
     "name": "stdout",
     "output_type": "stream",
     "text": [
      "<class '__main__.test'>\n"
     ]
    }
   ],
   "source": [
    "print(type(a))"
   ]
  },
  {
   "cell_type": "code",
   "execution_count": null,
   "id": "cc7701b7-e637-444e-b615-67ee7d3254c9",
   "metadata": {},
   "outputs": [],
   "source": [
    "a is an object"
   ]
  },
  {
   "cell_type": "code",
   "execution_count": 15,
   "id": "5bcc96d9-dcc5-430b-a1d3-9aa1309efc6b",
   "metadata": {},
   "outputs": [],
   "source": [
    "class pwskills:\n",
    "    \n",
    "    def welcome_msg(self):\n",
    "        print(\"welcome to pwskills\")"
   ]
  },
  {
   "cell_type": "code",
   "execution_count": 16,
   "id": "0af7b5d1-ca52-4558-8d07-84224e6fee97",
   "metadata": {},
   "outputs": [],
   "source": [
    "rohan = pwskills()"
   ]
  },
  {
   "cell_type": "code",
   "execution_count": 17,
   "id": "dab46c45-74c1-42ee-a861-f6741e446dea",
   "metadata": {},
   "outputs": [
    {
     "name": "stdout",
     "output_type": "stream",
     "text": [
      "welcome to pwskills\n"
     ]
    }
   ],
   "source": [
    "rohan.welcome_msg()"
   ]
  },
  {
   "cell_type": "code",
   "execution_count": 18,
   "id": "f9bd58ff-c05a-47fa-9235-8507fa8080e0",
   "metadata": {},
   "outputs": [],
   "source": [
    "sohan = pwskills()"
   ]
  },
  {
   "cell_type": "code",
   "execution_count": 19,
   "id": "11cde8e7-a0bc-4db3-a5ac-dc3a78cfc0c1",
   "metadata": {},
   "outputs": [
    {
     "name": "stdout",
     "output_type": "stream",
     "text": [
      "welcome to pwskills\n"
     ]
    }
   ],
   "source": [
    "sohan.welcome_msg()"
   ]
  },
  {
   "cell_type": "code",
   "execution_count": 20,
   "id": "5a5a729c-3d5a-42ee-969e-9cb5226b3c1b",
   "metadata": {},
   "outputs": [],
   "source": [
    "a=1"
   ]
  },
  {
   "cell_type": "code",
   "execution_count": 21,
   "id": "a7c52a0f-1a6f-431f-9dfe-b5ff7d592ed1",
   "metadata": {},
   "outputs": [],
   "source": [
    "b=2"
   ]
  },
  {
   "cell_type": "code",
   "execution_count": 23,
   "id": "8dfb5023-ac04-4600-aa7b-43e5dd88f5de",
   "metadata": {},
   "outputs": [
    {
     "data": {
      "text/plain": [
       "1"
      ]
     },
     "execution_count": 23,
     "metadata": {},
     "output_type": "execute_result"
    }
   ],
   "source": [
    "a"
   ]
  },
  {
   "cell_type": "code",
   "execution_count": 24,
   "id": "c84b1a66-33a3-4b34-a16e-7e8cef6da980",
   "metadata": {},
   "outputs": [
    {
     "data": {
      "text/plain": [
       "2"
      ]
     },
     "execution_count": 24,
     "metadata": {},
     "output_type": "execute_result"
    }
   ],
   "source": [
    "b"
   ]
  },
  {
   "cell_type": "code",
   "execution_count": 26,
   "id": "6185c924-c81f-4fbe-9801-0537bd674961",
   "metadata": {},
   "outputs": [],
   "source": [
    "class pwskills1:\n",
    "    \n",
    "    def __init__(self ,phone_number , email_id, student_id ):\n",
    "        \n",
    "        self.phone_number = phone_number\n",
    "        self.email_id = email_id\n",
    "        self.student_id = student_id\n",
    "        \n",
    "        \n",
    "    def return_student_details(self):\n",
    "        return self.phone_number, self.email_id, self.student_id"
   ]
  },
  {
   "cell_type": "code",
   "execution_count": 28,
   "id": "ceb69af8-5071-464c-97b7-1dfd1cd2e806",
   "metadata": {},
   "outputs": [],
   "source": [
    "aayush = pwskills1(123456, \"aayush.sreevastava@gmail.com\", 101)"
   ]
  },
  {
   "cell_type": "code",
   "execution_count": 31,
   "id": "0527c79b-adda-4445-aaef-32c727969a1f",
   "metadata": {},
   "outputs": [
    {
     "data": {
      "text/plain": [
       "123456"
      ]
     },
     "execution_count": 31,
     "metadata": {},
     "output_type": "execute_result"
    }
   ],
   "source": [
    "aayush.phone_number"
   ]
  },
  {
   "cell_type": "code",
   "execution_count": 32,
   "id": "089831f0-c537-4b8d-b738-fa3905bcb495",
   "metadata": {},
   "outputs": [
    {
     "data": {
      "text/plain": [
       "'aayush.sreevastava@gmail.com'"
      ]
     },
     "execution_count": 32,
     "metadata": {},
     "output_type": "execute_result"
    }
   ],
   "source": [
    "aayush.email_id"
   ]
  },
  {
   "cell_type": "code",
   "execution_count": 33,
   "id": "5ba06a97-5507-4dc3-a2f8-6bdfd73af8eb",
   "metadata": {},
   "outputs": [
    {
     "data": {
      "text/plain": [
       "101"
      ]
     },
     "execution_count": 33,
     "metadata": {},
     "output_type": "execute_result"
    }
   ],
   "source": [
    "aayush.student_id"
   ]
  },
  {
   "cell_type": "code",
   "execution_count": 34,
   "id": "9fc2d02c-85b1-4acb-866b-da03de83be89",
   "metadata": {},
   "outputs": [
    {
     "data": {
      "text/plain": [
       "(123456, 'aayush.sreevastava@gmail.com', 101)"
      ]
     },
     "execution_count": 34,
     "metadata": {},
     "output_type": "execute_result"
    }
   ],
   "source": [
    "aayush.return_student_details()"
   ]
  },
  {
   "cell_type": "code",
   "execution_count": 35,
   "id": "21aec442-3ab5-4691-88f9-c9e9c1b81109",
   "metadata": {},
   "outputs": [],
   "source": [
    "yashu = pwskills1(123456789,\"yashu.sreevastava@gmail.com\",102)"
   ]
  },
  {
   "cell_type": "code",
   "execution_count": 36,
   "id": "7faac7e7-f397-461e-bd73-7ef79e910c20",
   "metadata": {},
   "outputs": [
    {
     "data": {
      "text/plain": [
       "123456789"
      ]
     },
     "execution_count": 36,
     "metadata": {},
     "output_type": "execute_result"
    }
   ],
   "source": [
    "yashu.phone_number"
   ]
  },
  {
   "cell_type": "code",
   "execution_count": 37,
   "id": "2fab3251-1e43-4ccd-a08c-5d3e018d467f",
   "metadata": {},
   "outputs": [
    {
     "data": {
      "text/plain": [
       "102"
      ]
     },
     "execution_count": 37,
     "metadata": {},
     "output_type": "execute_result"
    }
   ],
   "source": [
    "yashu.student_id"
   ]
  },
  {
   "cell_type": "code",
   "execution_count": 38,
   "id": "9f7fa342-c2a4-46e1-a72d-b89ac2c52b61",
   "metadata": {},
   "outputs": [
    {
     "data": {
      "text/plain": [
       "'yashu.sreevastava@gmail.com'"
      ]
     },
     "execution_count": 38,
     "metadata": {},
     "output_type": "execute_result"
    }
   ],
   "source": [
    "yashu.email_id"
   ]
  },
  {
   "cell_type": "code",
   "execution_count": 39,
   "id": "ea712537-74d9-4224-8971-d976bd72d9a2",
   "metadata": {},
   "outputs": [
    {
     "data": {
      "text/plain": [
       "(123456789, 'yashu.sreevastava@gmail.com', 102)"
      ]
     },
     "execution_count": 39,
     "metadata": {},
     "output_type": "execute_result"
    }
   ],
   "source": [
    "yashu.return_student_details()"
   ]
  },
  {
   "cell_type": "code",
   "execution_count": 40,
   "id": "146679b0-d5bc-4f0c-bea7-dec3276fad48",
   "metadata": {},
   "outputs": [],
   "source": [
    "class pwskills2:\n",
    "    \n",
    "    def __init__(sri ,phone_number , email_id, student_id ):\n",
    "        \n",
    "        sri.phone_number = phone_number\n",
    "        sri.email_id = email_id\n",
    "        sri.student_id = student_id\n",
    "        \n",
    "        \n",
    "    def return_student_details(sri):\n",
    "        return sri.phone_number, sri.email_id, sri.student_id"
   ]
  },
  {
   "cell_type": "code",
   "execution_count": 42,
   "id": "b15c211b-ad23-4a5a-a74f-4f6e039f5ec9",
   "metadata": {},
   "outputs": [],
   "source": [
    "mohan = pwskills2(23527728792, \"mohan@gmail.com\", 198)"
   ]
  },
  {
   "cell_type": "code",
   "execution_count": 43,
   "id": "af41deed-1f7a-4667-beed-bd191fb70df3",
   "metadata": {},
   "outputs": [
    {
     "data": {
      "text/plain": [
       "23527728792"
      ]
     },
     "execution_count": 43,
     "metadata": {},
     "output_type": "execute_result"
    }
   ],
   "source": [
    "mohan.phone_number"
   ]
  },
  {
   "cell_type": "code",
   "execution_count": 44,
   "id": "ea105222-5453-4fa4-8bbf-1f38f2012a24",
   "metadata": {},
   "outputs": [
    {
     "data": {
      "text/plain": [
       "(23527728792, 'mohan@gmail.com', 198)"
      ]
     },
     "execution_count": 44,
     "metadata": {},
     "output_type": "execute_result"
    }
   ],
   "source": [
    "mohan.return_student_details()"
   ]
  },
  {
   "cell_type": "code",
   "execution_count": 54,
   "id": "fc1ff224-9c0c-4295-bd47-eae3c1f4cf8a",
   "metadata": {},
   "outputs": [],
   "source": [
    "class pwskills3:\n",
    "    \n",
    "    def __init__(sri ,phone_number , email_id, student_id ):\n",
    "        \n",
    "        sri.phone_number1 = phone_number\n",
    "        sri.email_id = email_id\n",
    "        sri.student_id = student_id\n",
    "        \n",
    "        \n",
    "    def return_student_details(sri):\n",
    "        return sri.phone_number1, sri.email_id, sri.student_id"
   ]
  },
  {
   "cell_type": "code",
   "execution_count": 46,
   "id": "23a093a6-622b-483d-a234-eb5a100be045",
   "metadata": {},
   "outputs": [],
   "source": [
    "rohan = pwskills3(999999,\"rohan@gmail.com\",123)"
   ]
  },
  {
   "cell_type": "code",
   "execution_count": 47,
   "id": "5ed389b1-c6cf-481f-8c79-2d04895095ff",
   "metadata": {},
   "outputs": [
    {
     "ename": "AttributeError",
     "evalue": "'pwskills3' object has no attribute 'phone_number'",
     "output_type": "error",
     "traceback": [
      "\u001b[0;31m---------------------------------------------------------------------------\u001b[0m",
      "\u001b[0;31mAttributeError\u001b[0m                            Traceback (most recent call last)",
      "Cell \u001b[0;32mIn[47], line 1\u001b[0m\n\u001b[0;32m----> 1\u001b[0m \u001b[43mrohan\u001b[49m\u001b[38;5;241;43m.\u001b[39;49m\u001b[43mphone_number\u001b[49m\n",
      "\u001b[0;31mAttributeError\u001b[0m: 'pwskills3' object has no attribute 'phone_number'"
     ]
    }
   ],
   "source": [
    "rohan.phone_number"
   ]
  },
  {
   "cell_type": "code",
   "execution_count": 48,
   "id": "f5e7ff6f-c578-41a0-8ea4-d28bffa74ad4",
   "metadata": {},
   "outputs": [
    {
     "ename": "AttributeError",
     "evalue": "'pwskills3' object has no attribute 'phone_number'",
     "output_type": "error",
     "traceback": [
      "\u001b[0;31m---------------------------------------------------------------------------\u001b[0m",
      "\u001b[0;31mAttributeError\u001b[0m                            Traceback (most recent call last)",
      "Cell \u001b[0;32mIn[48], line 1\u001b[0m\n\u001b[0;32m----> 1\u001b[0m \u001b[43mrohan\u001b[49m\u001b[38;5;241;43m.\u001b[39;49m\u001b[43mreturn_student_details\u001b[49m\u001b[43m(\u001b[49m\u001b[43m)\u001b[49m\n",
      "Cell \u001b[0;32mIn[45], line 11\u001b[0m, in \u001b[0;36mpwskills3.return_student_details\u001b[0;34m(sri)\u001b[0m\n\u001b[1;32m     10\u001b[0m \u001b[38;5;28;01mdef\u001b[39;00m \u001b[38;5;21mreturn_student_details\u001b[39m(sri):\n\u001b[0;32m---> 11\u001b[0m     \u001b[38;5;28;01mreturn\u001b[39;00m \u001b[43msri\u001b[49m\u001b[38;5;241;43m.\u001b[39;49m\u001b[43mphone_number\u001b[49m, sri\u001b[38;5;241m.\u001b[39memail_id, sri\u001b[38;5;241m.\u001b[39mstudent_id\n",
      "\u001b[0;31mAttributeError\u001b[0m: 'pwskills3' object has no attribute 'phone_number'"
     ]
    }
   ],
   "source": [
    "rohan.return_student_details()"
   ]
  },
  {
   "cell_type": "code",
   "execution_count": 56,
   "id": "dc1f29a1-822f-4dea-9882-19a1be01e4fa",
   "metadata": {},
   "outputs": [],
   "source": [
    "rohan = pwskills3(999999,\"rohan@gmail.com\",123)"
   ]
  },
  {
   "cell_type": "code",
   "execution_count": 57,
   "id": "6cd354c4-0c8d-45cc-b6bd-28d6f9b341dc",
   "metadata": {},
   "outputs": [
    {
     "data": {
      "text/plain": [
       "999999"
      ]
     },
     "execution_count": 57,
     "metadata": {},
     "output_type": "execute_result"
    }
   ],
   "source": [
    "rohan.phone_number1"
   ]
  },
  {
   "cell_type": "code",
   "execution_count": 58,
   "id": "93e3243e-b424-4e9c-b4a8-53cb47b97cb6",
   "metadata": {},
   "outputs": [
    {
     "data": {
      "text/plain": [
       "(999999, 'rohan@gmail.com', 123)"
      ]
     },
     "execution_count": 58,
     "metadata": {},
     "output_type": "execute_result"
    }
   ],
   "source": [
    "rohan.return_student_details()"
   ]
  }
 ],
 "metadata": {
  "kernelspec": {
   "display_name": "Python 3 (ipykernel)",
   "language": "python",
   "name": "python3"
  },
  "language_info": {
   "codemirror_mode": {
    "name": "ipython",
    "version": 3
   },
   "file_extension": ".py",
   "mimetype": "text/x-python",
   "name": "python",
   "nbconvert_exporter": "python",
   "pygments_lexer": "ipython3",
   "version": "3.10.8"
  }
 },
 "nbformat": 4,
 "nbformat_minor": 5
}
