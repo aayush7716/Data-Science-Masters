{
 "cells": [
  {
   "cell_type": "code",
   "execution_count": 1,
   "id": "15c31054-43d9-4393-94aa-50ae83237b46",
   "metadata": {},
   "outputs": [
    {
     "name": "stdout",
     "output_type": "stream",
     "text": [
      "thus is my prog\n"
     ]
    }
   ],
   "source": [
    "print(\"thus is my prog\")"
   ]
  },
  {
   "cell_type": "code",
   "execution_count": 2,
   "id": "9f3d10ae-f151-4513-ba6a-e4c631db4b20",
   "metadata": {},
   "outputs": [],
   "source": [
    "l = [1,2,3,4,5]"
   ]
  },
  {
   "cell_type": "code",
   "execution_count": 3,
   "id": "545c79c8-4aec-45c9-91a6-5efbbf5821a3",
   "metadata": {},
   "outputs": [
    {
     "data": {
      "text/plain": [
       "5"
      ]
     },
     "execution_count": 3,
     "metadata": {},
     "output_type": "execute_result"
    }
   ],
   "source": [
    "len(l)"
   ]
  },
  {
   "cell_type": "code",
   "execution_count": 5,
   "id": "b8baa224-fe7d-4e53-acfa-d099bae05349",
   "metadata": {},
   "outputs": [],
   "source": [
    "def test():\n",
    "    pass"
   ]
  },
  {
   "cell_type": "code",
   "execution_count": 7,
   "id": "92076280-7ae7-49fe-ad12-0874872ad785",
   "metadata": {},
   "outputs": [],
   "source": [
    "def test1():\n",
    "    print(\"this is my very very first fun\")"
   ]
  },
  {
   "cell_type": "code",
   "execution_count": 9,
   "id": "ef723383-1658-455f-b395-cd0ad36c3555",
   "metadata": {},
   "outputs": [
    {
     "name": "stdout",
     "output_type": "stream",
     "text": [
      "this is my very very first fun\n"
     ]
    }
   ],
   "source": [
    "test1()"
   ]
  },
  {
   "cell_type": "code",
   "execution_count": 10,
   "id": "8c76ab88-face-4d07-9789-e9339809f75d",
   "metadata": {},
   "outputs": [
    {
     "name": "stdout",
     "output_type": "stream",
     "text": [
      "this is my very very first fun\n"
     ]
    }
   ],
   "source": [
    "test1()"
   ]
  },
  {
   "cell_type": "code",
   "execution_count": 11,
   "id": "ed006e3a-21fe-4a5a-8017-4be16372d975",
   "metadata": {},
   "outputs": [
    {
     "name": "stdout",
     "output_type": "stream",
     "text": [
      "this is my very very first fun\n"
     ]
    },
    {
     "ename": "TypeError",
     "evalue": "unsupported operand type(s) for +: 'NoneType' and 'str'",
     "output_type": "error",
     "traceback": [
      "\u001b[0;31m---------------------------------------------------------------------------\u001b[0m",
      "\u001b[0;31mTypeError\u001b[0m                                 Traceback (most recent call last)",
      "Cell \u001b[0;32mIn[11], line 1\u001b[0m\n\u001b[0;32m----> 1\u001b[0m \u001b[43mtest1\u001b[49m\u001b[43m(\u001b[49m\u001b[43m)\u001b[49m\u001b[43m \u001b[49m\u001b[38;5;241;43m+\u001b[39;49m\u001b[43m \u001b[49m\u001b[38;5;124;43m\"\u001b[39;49m\u001b[38;5;124;43maayush\u001b[39;49m\u001b[38;5;124;43m\"\u001b[39;49m\n",
      "\u001b[0;31mTypeError\u001b[0m: unsupported operand type(s) for +: 'NoneType' and 'str'"
     ]
    }
   ],
   "source": [
    "test1() + \"aayush\""
   ]
  },
  {
   "cell_type": "code",
   "execution_count": 16,
   "id": "959c00ad-b53b-4c17-b488-292cac9f6551",
   "metadata": {},
   "outputs": [],
   "source": [
    "def test2():\n",
    "    return \"this is my function with return \""
   ]
  },
  {
   "cell_type": "code",
   "execution_count": 17,
   "id": "c2ba6f95-b519-4ecc-aa0d-ee5f82ff4f36",
   "metadata": {},
   "outputs": [
    {
     "data": {
      "text/plain": [
       "'this is my function with return '"
      ]
     },
     "execution_count": 17,
     "metadata": {},
     "output_type": "execute_result"
    }
   ],
   "source": [
    "test2()"
   ]
  },
  {
   "cell_type": "code",
   "execution_count": 18,
   "id": "9bcd8d54-7537-453a-a589-03fbf41594a7",
   "metadata": {},
   "outputs": [
    {
     "data": {
      "text/plain": [
       "'this is my function with return aayush'"
      ]
     },
     "execution_count": 18,
     "metadata": {},
     "output_type": "execute_result"
    }
   ],
   "source": [
    "test2() +  \"aayush\""
   ]
  },
  {
   "cell_type": "code",
   "execution_count": 20,
   "id": "ae0a295d-4f26-40c7-97f1-c42c874c334e",
   "metadata": {},
   "outputs": [],
   "source": [
    "def test3():\n",
    "    return 1, 4, \"pwskills\" , 34.56"
   ]
  },
  {
   "cell_type": "code",
   "execution_count": 21,
   "id": "b8e800f9-e68f-4f45-a697-bf5f4f294fcb",
   "metadata": {},
   "outputs": [
    {
     "data": {
      "text/plain": [
       "(1, 4, 'pwskills', 34.56)"
      ]
     },
     "execution_count": 21,
     "metadata": {},
     "output_type": "execute_result"
    }
   ],
   "source": [
    "test3()"
   ]
  },
  {
   "cell_type": "code",
   "execution_count": 22,
   "id": "744a82ad-1d73-44ff-9f0e-555ea5bbdf75",
   "metadata": {},
   "outputs": [],
   "source": [
    "a = 1,2,3,4,5"
   ]
  },
  {
   "cell_type": "code",
   "execution_count": 23,
   "id": "66e4e030-e342-4201-a9c3-1bc2c324a3fe",
   "metadata": {},
   "outputs": [
    {
     "data": {
      "text/plain": [
       "(1, 2, 3, 4, 5)"
      ]
     },
     "execution_count": 23,
     "metadata": {},
     "output_type": "execute_result"
    }
   ],
   "source": [
    "a"
   ]
  },
  {
   "cell_type": "code",
   "execution_count": 24,
   "id": "18f3db86-2307-42be-a301-cd866487cfcf",
   "metadata": {},
   "outputs": [],
   "source": [
    "a,b,c,d = 1,2,34.56,True"
   ]
  },
  {
   "cell_type": "code",
   "execution_count": 25,
   "id": "61473a87-9d34-456e-802d-fdf184d14189",
   "metadata": {},
   "outputs": [
    {
     "data": {
      "text/plain": [
       "1"
      ]
     },
     "execution_count": 25,
     "metadata": {},
     "output_type": "execute_result"
    }
   ],
   "source": [
    "a"
   ]
  },
  {
   "cell_type": "code",
   "execution_count": 26,
   "id": "5629858d-4430-456f-8cdd-c5b90d713d24",
   "metadata": {},
   "outputs": [
    {
     "data": {
      "text/plain": [
       "2"
      ]
     },
     "execution_count": 26,
     "metadata": {},
     "output_type": "execute_result"
    }
   ],
   "source": [
    "b"
   ]
  },
  {
   "cell_type": "code",
   "execution_count": 27,
   "id": "4c7bbcb0-9558-4fed-8f84-850f72a7c9d6",
   "metadata": {},
   "outputs": [
    {
     "data": {
      "text/plain": [
       "34.56"
      ]
     },
     "execution_count": 27,
     "metadata": {},
     "output_type": "execute_result"
    }
   ],
   "source": [
    "c"
   ]
  },
  {
   "cell_type": "code",
   "execution_count": 28,
   "id": "def6bd47-a43d-4cb0-bcfd-312cfddc4cc4",
   "metadata": {},
   "outputs": [
    {
     "data": {
      "text/plain": [
       "True"
      ]
     },
     "execution_count": 28,
     "metadata": {},
     "output_type": "execute_result"
    }
   ],
   "source": [
    "d"
   ]
  },
  {
   "cell_type": "code",
   "execution_count": 29,
   "id": "794eefa7-2fa1-48ca-83f5-f35d223fbbee",
   "metadata": {},
   "outputs": [
    {
     "data": {
      "text/plain": [
       "(1, 4, 'pwskills', 34.56)"
      ]
     },
     "execution_count": 29,
     "metadata": {},
     "output_type": "execute_result"
    }
   ],
   "source": [
    "test3()"
   ]
  },
  {
   "cell_type": "code",
   "execution_count": 30,
   "id": "45af35fe-f70c-46eb-a5de-502dcd5f8a42",
   "metadata": {},
   "outputs": [
    {
     "data": {
      "text/plain": [
       "1"
      ]
     },
     "execution_count": 30,
     "metadata": {},
     "output_type": "execute_result"
    }
   ],
   "source": [
    "test3()[0]"
   ]
  },
  {
   "cell_type": "code",
   "execution_count": 31,
   "id": "297e4c8d-5a3f-4eff-b5ae-2b50a48fca8c",
   "metadata": {},
   "outputs": [
    {
     "data": {
      "text/plain": [
       "'pwskills'"
      ]
     },
     "execution_count": 31,
     "metadata": {},
     "output_type": "execute_result"
    }
   ],
   "source": [
    "test3()[2]"
   ]
  },
  {
   "cell_type": "code",
   "execution_count": 32,
   "id": "9bddd589-256c-47fd-a981-87ccf51e5366",
   "metadata": {},
   "outputs": [
    {
     "data": {
      "text/plain": [
       "4"
      ]
     },
     "execution_count": 32,
     "metadata": {},
     "output_type": "execute_result"
    }
   ],
   "source": [
    "test3()[1]"
   ]
  },
  {
   "cell_type": "code",
   "execution_count": 33,
   "id": "581683e4-993e-41f6-a721-90bc2084c43c",
   "metadata": {},
   "outputs": [
    {
     "data": {
      "text/plain": [
       "34.56"
      ]
     },
     "execution_count": 33,
     "metadata": {},
     "output_type": "execute_result"
    }
   ],
   "source": [
    "test3()[3]"
   ]
  },
  {
   "cell_type": "code",
   "execution_count": 34,
   "id": "ce3b270c-dd2b-4259-9baf-c65b6e07894b",
   "metadata": {},
   "outputs": [],
   "source": [
    "a,b,c,d = test3()"
   ]
  },
  {
   "cell_type": "code",
   "execution_count": 35,
   "id": "0749ff00-a5f6-4319-ae69-244403270ce1",
   "metadata": {},
   "outputs": [
    {
     "data": {
      "text/plain": [
       "1"
      ]
     },
     "execution_count": 35,
     "metadata": {},
     "output_type": "execute_result"
    }
   ],
   "source": [
    "a"
   ]
  },
  {
   "cell_type": "code",
   "execution_count": 36,
   "id": "101d3b9a-264c-4bfd-ae9d-86632f546f3b",
   "metadata": {},
   "outputs": [
    {
     "data": {
      "text/plain": [
       "4"
      ]
     },
     "execution_count": 36,
     "metadata": {},
     "output_type": "execute_result"
    }
   ],
   "source": [
    "b"
   ]
  },
  {
   "cell_type": "code",
   "execution_count": 37,
   "id": "e37bd2ea-5d2c-4b92-bf2b-2f0481be9ded",
   "metadata": {},
   "outputs": [
    {
     "data": {
      "text/plain": [
       "'pwskills'"
      ]
     },
     "execution_count": 37,
     "metadata": {},
     "output_type": "execute_result"
    }
   ],
   "source": [
    "c"
   ]
  },
  {
   "cell_type": "code",
   "execution_count": 38,
   "id": "ee6e1437-7ea1-44f5-8108-db5cef48e5eb",
   "metadata": {},
   "outputs": [
    {
     "data": {
      "text/plain": [
       "34.56"
      ]
     },
     "execution_count": 38,
     "metadata": {},
     "output_type": "execute_result"
    }
   ],
   "source": [
    "d"
   ]
  },
  {
   "cell_type": "code",
   "execution_count": 39,
   "id": "7affa257-f93e-414b-8883-fdbd8fbcd36e",
   "metadata": {},
   "outputs": [],
   "source": [
    "def test4():\n",
    "    a = 3*4+5\n",
    "    return a"
   ]
  },
  {
   "cell_type": "code",
   "execution_count": 40,
   "id": "b269b8bc-a2dc-4de3-8c5e-12e5be633e0b",
   "metadata": {},
   "outputs": [
    {
     "data": {
      "text/plain": [
       "17"
      ]
     },
     "execution_count": 40,
     "metadata": {},
     "output_type": "execute_result"
    }
   ],
   "source": [
    "test4()"
   ]
  },
  {
   "cell_type": "code",
   "execution_count": 41,
   "id": "b508e85e-5269-4192-aa01-6b41fa9cb8c3",
   "metadata": {},
   "outputs": [
    {
     "data": {
      "text/plain": [
       "int"
      ]
     },
     "execution_count": 41,
     "metadata": {},
     "output_type": "execute_result"
    }
   ],
   "source": [
    "type(test4())"
   ]
  },
  {
   "cell_type": "code",
   "execution_count": 42,
   "id": "baee4808-6f32-47e5-8174-a05d8ef482d8",
   "metadata": {},
   "outputs": [],
   "source": [
    "def test5(a,b):\n",
    "    c = a+b\n",
    "    return c"
   ]
  },
  {
   "cell_type": "code",
   "execution_count": 43,
   "id": "790064a9-5dbe-4a38-8b62-2f3df26521c4",
   "metadata": {},
   "outputs": [
    {
     "ename": "TypeError",
     "evalue": "test5() missing 2 required positional arguments: 'a' and 'b'",
     "output_type": "error",
     "traceback": [
      "\u001b[0;31m---------------------------------------------------------------------------\u001b[0m",
      "\u001b[0;31mTypeError\u001b[0m                                 Traceback (most recent call last)",
      "Cell \u001b[0;32mIn[43], line 1\u001b[0m\n\u001b[0;32m----> 1\u001b[0m \u001b[43mtest5\u001b[49m\u001b[43m(\u001b[49m\u001b[43m)\u001b[49m\n",
      "\u001b[0;31mTypeError\u001b[0m: test5() missing 2 required positional arguments: 'a' and 'b'"
     ]
    }
   ],
   "source": [
    "test5()"
   ]
  },
  {
   "cell_type": "code",
   "execution_count": 44,
   "id": "98c1ff93-2531-4d17-b667-0a5e89ad54d3",
   "metadata": {},
   "outputs": [
    {
     "data": {
      "text/plain": [
       "3"
      ]
     },
     "execution_count": 44,
     "metadata": {},
     "output_type": "execute_result"
    }
   ],
   "source": [
    "test5(1,2)"
   ]
  },
  {
   "cell_type": "code",
   "execution_count": 45,
   "id": "81c15962-48f0-4e5f-9d96-ce0a58645068",
   "metadata": {},
   "outputs": [
    {
     "data": {
      "text/plain": [
       "4"
      ]
     },
     "execution_count": 45,
     "metadata": {},
     "output_type": "execute_result"
    }
   ],
   "source": [
    "test5(1,3)"
   ]
  },
  {
   "cell_type": "code",
   "execution_count": 46,
   "id": "808cea45-29cc-4f0e-96c4-1e0bea47de93",
   "metadata": {},
   "outputs": [
    {
     "data": {
      "text/plain": [
       "'aayushsrivastava'"
      ]
     },
     "execution_count": 46,
     "metadata": {},
     "output_type": "execute_result"
    }
   ],
   "source": [
    "test5(\"aayush\" , \"srivastava\")"
   ]
  },
  {
   "cell_type": "code",
   "execution_count": 47,
   "id": "33b29e2c-e17d-4558-8342-7a8a37b9e545",
   "metadata": {},
   "outputs": [
    {
     "data": {
      "text/plain": [
       "[1, 2, 3, 4, 4, 5, 6, 7, 8]"
      ]
     },
     "execution_count": 47,
     "metadata": {},
     "output_type": "execute_result"
    }
   ],
   "source": [
    "test5([1,2,3,4],[4,5,6,7,8])"
   ]
  },
  {
   "cell_type": "code",
   "execution_count": 48,
   "id": "3b6f3e7e-72f8-44d5-ae5f-ff63a7494ce6",
   "metadata": {},
   "outputs": [
    {
     "data": {
      "text/plain": [
       "'srivastavaaayush'"
      ]
     },
     "execution_count": 48,
     "metadata": {},
     "output_type": "execute_result"
    }
   ],
   "source": [
    "test5(b = \"aayush\", a=\"srivastava\")"
   ]
  },
  {
   "cell_type": "code",
   "execution_count": 49,
   "id": "f698461b-d8fa-43ad-b74e-4e17f1d1a9af",
   "metadata": {},
   "outputs": [],
   "source": [
    "l=[1,2,3,4,5,\"aayush\",\"pwskills\",[1,2,3,34,45]]"
   ]
  },
  {
   "cell_type": "code",
   "execution_count": 50,
   "id": "ea145910-53d7-4031-9e00-f95221a78469",
   "metadata": {},
   "outputs": [],
   "source": [
    "#create a function which will take list as a input and give me a final list with all the numeric value"
   ]
  },
  {
   "cell_type": "code",
   "execution_count": 51,
   "id": "a7589927-b1f2-4bea-a810-0aa0be9d5b35",
   "metadata": {},
   "outputs": [],
   "source": [
    "def test6(a):\n",
    "    n = []\n",
    "    for i in a :\n",
    "        if type(i) == int or type(i) == float :\n",
    "            n.append(i)\n",
    "    return n        "
   ]
  },
  {
   "cell_type": "code",
   "execution_count": 52,
   "id": "6a6ce2e9-0d51-403d-9b45-c45d80c90505",
   "metadata": {},
   "outputs": [
    {
     "data": {
      "text/plain": [
       "[1, 2, 3, 4, 5]"
      ]
     },
     "execution_count": 52,
     "metadata": {},
     "output_type": "execute_result"
    }
   ],
   "source": [
    "test6(l)"
   ]
  },
  {
   "cell_type": "code",
   "execution_count": 53,
   "id": "91b1917e-1e20-4c3c-a706-4a33ccb8a541",
   "metadata": {},
   "outputs": [
    {
     "data": {
      "text/plain": [
       "[1, 2, 3, 4, 5, 'aayush', 'pwskills', [1, 2, 3, 34, 45]]"
      ]
     },
     "execution_count": 53,
     "metadata": {},
     "output_type": "execute_result"
    }
   ],
   "source": [
    "l"
   ]
  },
  {
   "cell_type": "code",
   "execution_count": 54,
   "id": "15e0581f-2b36-48db-9fb9-5b8407866415",
   "metadata": {},
   "outputs": [],
   "source": [
    "def test7(a) :\n",
    "    n=[]\n",
    "    for i in a :\n",
    "        if type(i) == list :\n",
    "            for j in i:\n",
    "                if type(j) == int or type(j) == float :\n",
    "                    n.append(j)\n",
    "        else:\n",
    "            if type(i) == int or type(i) == float :\n",
    "                n.append(i)\n",
    "    return n            \n",
    "        "
   ]
  },
  {
   "cell_type": "code",
   "execution_count": 56,
   "id": "36437f52-9ea2-4356-a129-acd447de369c",
   "metadata": {},
   "outputs": [
    {
     "data": {
      "text/plain": [
       "[1, 2, 3, 4, 5, 1, 2, 3, 34, 45]"
      ]
     },
     "execution_count": 56,
     "metadata": {},
     "output_type": "execute_result"
    }
   ],
   "source": [
    "test7(l)"
   ]
  },
  {
   "cell_type": "code",
   "execution_count": 57,
   "id": "3f242f93-d950-4e0b-a818-7e899d9a0344",
   "metadata": {},
   "outputs": [
    {
     "data": {
      "text/plain": [
       "[1, 2, 3, 4, 5, 'aayush', 'pwskills', [1, 2, 3, 34, 45]]"
      ]
     },
     "execution_count": 57,
     "metadata": {},
     "output_type": "execute_result"
    }
   ],
   "source": [
    "l"
   ]
  },
  {
   "cell_type": "code",
   "execution_count": 60,
   "id": "554e9808-5ac4-4fe8-9164-e7a7fcf6e77e",
   "metadata": {},
   "outputs": [],
   "source": [
    "def tst(a,b,c,d,e):\n",
    "    pass"
   ]
  },
  {
   "cell_type": "code",
   "execution_count": 61,
   "id": "e17e36d9-e4aa-4a91-bbc4-38bf3b3a6c4d",
   "metadata": {},
   "outputs": [
    {
     "ename": "TypeError",
     "evalue": "tst() takes 5 positional arguments but 7 were given",
     "output_type": "error",
     "traceback": [
      "\u001b[0;31m---------------------------------------------------------------------------\u001b[0m",
      "\u001b[0;31mTypeError\u001b[0m                                 Traceback (most recent call last)",
      "Cell \u001b[0;32mIn[61], line 1\u001b[0m\n\u001b[0;32m----> 1\u001b[0m \u001b[43mtst\u001b[49m\u001b[43m(\u001b[49m\u001b[38;5;241;43m1\u001b[39;49m\u001b[43m,\u001b[49m\u001b[38;5;241;43m2\u001b[39;49m\u001b[43m,\u001b[49m\u001b[38;5;241;43m3\u001b[39;49m\u001b[43m,\u001b[49m\u001b[38;5;241;43m4\u001b[39;49m\u001b[43m,\u001b[49m\u001b[38;5;241;43m5\u001b[39;49m\u001b[43m,\u001b[49m\u001b[38;5;241;43m6\u001b[39;49m\u001b[43m,\u001b[49m\u001b[38;5;241;43m7\u001b[39;49m\u001b[43m)\u001b[49m\n",
      "\u001b[0;31mTypeError\u001b[0m: tst() takes 5 positional arguments but 7 were given"
     ]
    }
   ],
   "source": [
    "tst(1,2,3,4,5,6,7)"
   ]
  },
  {
   "cell_type": "code",
   "execution_count": 62,
   "id": "f3d7d5c6-3db4-4fb0-8a0b-dfd3905b0b4f",
   "metadata": {},
   "outputs": [],
   "source": [
    "def tst1(*args):\n",
    "    return args"
   ]
  },
  {
   "cell_type": "code",
   "execution_count": 63,
   "id": "f999eacc-df64-4d83-96d8-73a04fa1ae5b",
   "metadata": {},
   "outputs": [
    {
     "data": {
      "text/plain": [
       "(2,)"
      ]
     },
     "execution_count": 63,
     "metadata": {},
     "output_type": "execute_result"
    }
   ],
   "source": [
    "tst1(2)"
   ]
  },
  {
   "cell_type": "code",
   "execution_count": 64,
   "id": "ea3669e2-f929-43d6-8809-72f8163a95ea",
   "metadata": {},
   "outputs": [
    {
     "data": {
      "text/plain": [
       "(1, 2, 3, 4, 5, 5)"
      ]
     },
     "execution_count": 64,
     "metadata": {},
     "output_type": "execute_result"
    }
   ],
   "source": [
    "tst1(1,2,3,4,5,5)"
   ]
  },
  {
   "cell_type": "code",
   "execution_count": 65,
   "id": "548c8870-a30e-4aac-8ad2-29b56b0b0b5d",
   "metadata": {},
   "outputs": [
    {
     "data": {
      "text/plain": [
       "('aayush', [1, 2, 3, 4, 5], (1, 2, 3, 4, 5))"
      ]
     },
     "execution_count": 65,
     "metadata": {},
     "output_type": "execute_result"
    }
   ],
   "source": [
    "tst1(\"aayush\", [1,2,3,4,5], (1,2,3,4,5))"
   ]
  },
  {
   "cell_type": "code",
   "execution_count": 66,
   "id": "e0af3fb0-40f6-4cda-a23f-186dbf4bd550",
   "metadata": {},
   "outputs": [],
   "source": [
    "def tst2(*aayush):\n",
    "    return aayush"
   ]
  },
  {
   "cell_type": "code",
   "execution_count": 67,
   "id": "17f76e9a-c7dd-48ae-a505-88e69d2237e5",
   "metadata": {},
   "outputs": [
    {
     "data": {
      "text/plain": [
       "(3, 4, 5, 6)"
      ]
     },
     "execution_count": 67,
     "metadata": {},
     "output_type": "execute_result"
    }
   ],
   "source": [
    "tst2(3,4,5,6)"
   ]
  },
  {
   "cell_type": "code",
   "execution_count": 68,
   "id": "d4aeb431-2be5-4cd3-84c5-16ea17144fac",
   "metadata": {},
   "outputs": [],
   "source": [
    "def tst3(*args , a ):\n",
    "    return args ,a"
   ]
  },
  {
   "cell_type": "code",
   "execution_count": 69,
   "id": "7bf4bc54-4b72-4205-b029-cb676dc2f942",
   "metadata": {},
   "outputs": [
    {
     "ename": "TypeError",
     "evalue": "tst3() missing 1 required keyword-only argument: 'a'",
     "output_type": "error",
     "traceback": [
      "\u001b[0;31m---------------------------------------------------------------------------\u001b[0m",
      "\u001b[0;31mTypeError\u001b[0m                                 Traceback (most recent call last)",
      "Cell \u001b[0;32mIn[69], line 1\u001b[0m\n\u001b[0;32m----> 1\u001b[0m \u001b[43mtst3\u001b[49m\u001b[43m(\u001b[49m\u001b[38;5;241;43m3\u001b[39;49m\u001b[43m)\u001b[49m\n",
      "\u001b[0;31mTypeError\u001b[0m: tst3() missing 1 required keyword-only argument: 'a'"
     ]
    }
   ],
   "source": [
    "tst3(3)"
   ]
  },
  {
   "cell_type": "code",
   "execution_count": 70,
   "id": "ab687267-b235-44c7-b7b9-25e68fcc7ff1",
   "metadata": {},
   "outputs": [
    {
     "data": {
      "text/plain": [
       "((1, 2, 3, 4), 'aayush')"
      ]
     },
     "execution_count": 70,
     "metadata": {},
     "output_type": "execute_result"
    }
   ],
   "source": [
    "tst3(1,2,3,4 ,a = \"aayush\" )"
   ]
  },
  {
   "cell_type": "code",
   "execution_count": 74,
   "id": "89249b2c-3bc3-4aeb-a5b4-ac76acce684b",
   "metadata": {},
   "outputs": [],
   "source": [
    "def tst4(*args):\n",
    "    l = []\n",
    "    for i in args:\n",
    "        if type(i) == list :\n",
    "            l.append(i)\n",
    "            \n",
    "    return l        "
   ]
  },
  {
   "cell_type": "code",
   "execution_count": 75,
   "id": "84ac9724-5edd-4b68-83de-952f2613689c",
   "metadata": {},
   "outputs": [
    {
     "data": {
      "text/plain": [
       "[[1, 2, 3, 4, 4]]"
      ]
     },
     "execution_count": 75,
     "metadata": {},
     "output_type": "execute_result"
    }
   ],
   "source": [
    "tst4(1,2,3,[1,2,3,4,4] , (1,2,3,4,5) , \"aayush\")"
   ]
  },
  {
   "cell_type": "code",
   "execution_count": 76,
   "id": "43a671ab-1dd1-4bc2-af04-3a447a3662af",
   "metadata": {},
   "outputs": [
    {
     "data": {
      "text/plain": [
       "[[1, 2, 3, 4, 4], [6, 7, 8]]"
      ]
     },
     "execution_count": 76,
     "metadata": {},
     "output_type": "execute_result"
    }
   ],
   "source": [
    "tst4(1,2,3,[1,2,3,4,4] , (1,2,3,4,5) , \"aayush\" , [6,7,8])"
   ]
  },
  {
   "cell_type": "code",
   "execution_count": 77,
   "id": "f9db628a-41e1-4daf-a7ac-f674c05ead01",
   "metadata": {},
   "outputs": [],
   "source": [
    "def tst5(**kwargs):\n",
    "    return kwargs"
   ]
  },
  {
   "cell_type": "code",
   "execution_count": 78,
   "id": "ea843ad4-723a-401f-9a42-ab223be13a29",
   "metadata": {},
   "outputs": [
    {
     "data": {
      "text/plain": [
       "{}"
      ]
     },
     "execution_count": 78,
     "metadata": {},
     "output_type": "execute_result"
    }
   ],
   "source": [
    "tst5()"
   ]
  },
  {
   "cell_type": "code",
   "execution_count": 79,
   "id": "62b78bf6-d89e-4b06-8478-451646d13edd",
   "metadata": {},
   "outputs": [
    {
     "data": {
      "text/plain": [
       "dict"
      ]
     },
     "execution_count": 79,
     "metadata": {},
     "output_type": "execute_result"
    }
   ],
   "source": [
    "type(tst5())"
   ]
  },
  {
   "cell_type": "code",
   "execution_count": 80,
   "id": "ab5b9d33-edea-409b-a72d-3c771aa3fc7c",
   "metadata": {},
   "outputs": [
    {
     "data": {
      "text/plain": [
       "{'a': 34, 'b': 23, 'c': [1, 2, 3, 4], 'd': ('aayush', 'pwskills')}"
      ]
     },
     "execution_count": 80,
     "metadata": {},
     "output_type": "execute_result"
    }
   ],
   "source": [
    "tst5(a=34,b=23,c=[1,2,3,4],d=(\"aayush\",\"pwskills\"))"
   ]
  },
  {
   "cell_type": "code",
   "execution_count": 81,
   "id": "4c49119a-73b6-4951-aad9-7d50025a428d",
   "metadata": {},
   "outputs": [
    {
     "ename": "TypeError",
     "evalue": "argument of type 'function' is not iterable",
     "output_type": "error",
     "traceback": [
      "\u001b[0;31m---------------------------------------------------------------------------\u001b[0m",
      "\u001b[0;31mTypeError\u001b[0m                                 Traceback (most recent call last)",
      "Cell \u001b[0;32mIn[81], line 1\u001b[0m\n\u001b[0;32m----> 1\u001b[0m \u001b[43md\u001b[49m\u001b[43m \u001b[49m\u001b[38;5;129;43;01min\u001b[39;49;00m\u001b[43m \u001b[49m\u001b[43mtst5\u001b[49m\n",
      "\u001b[0;31mTypeError\u001b[0m: argument of type 'function' is not iterable"
     ]
    }
   ],
   "source": [
    "d in tst5"
   ]
  },
  {
   "cell_type": "code",
   "execution_count": 83,
   "id": "1a66b50a-6975-42f4-965d-a3905b1fd062",
   "metadata": {},
   "outputs": [],
   "source": [
    "def tst6(**kwargs):\n",
    "    for i in kwargs.keys():\n",
    "        if type(kwargs[i]) == list :\n",
    "            return i , kwargs[i]"
   ]
  },
  {
   "cell_type": "code",
   "execution_count": 84,
   "id": "2bd98c91-68c2-4d7f-8013-c38d4979333c",
   "metadata": {},
   "outputs": [
    {
     "data": {
      "text/plain": [
       "('c', [1, 2, 3, 4])"
      ]
     },
     "execution_count": 84,
     "metadata": {},
     "output_type": "execute_result"
    }
   ],
   "source": [
    "tst6(a=34,b=23,c=[1,2,3,4],d=(\"aayush\",\"pwskills\"))"
   ]
  },
  {
   "cell_type": "code",
   "execution_count": 85,
   "id": "82e5fbe1-7592-426d-81c1-57ad082943fc",
   "metadata": {},
   "outputs": [],
   "source": [
    "def tst7(*args , **kwargs) :\n",
    "    return args , kwargs"
   ]
  },
  {
   "cell_type": "code",
   "execution_count": 86,
   "id": "40d48c9e-0063-41ba-a1f3-7e544b765d4f",
   "metadata": {},
   "outputs": [
    {
     "data": {
      "text/plain": [
       "((2, 3, 4, 5), {'a': 34, 'b': 98})"
      ]
     },
     "execution_count": 86,
     "metadata": {},
     "output_type": "execute_result"
    }
   ],
   "source": [
    "tst7(2,3,4,5,a=34,b=98)"
   ]
  },
  {
   "cell_type": "markdown",
   "id": "3b0c4713-8930-4a69-9209-a092e5ab3d63",
   "metadata": {},
   "source": [
    "# Generator Functions"
   ]
  },
  {
   "cell_type": "code",
   "execution_count": 87,
   "id": "42cba949-1cd2-40b2-93cb-edbff912e95d",
   "metadata": {},
   "outputs": [
    {
     "data": {
      "text/plain": [
       "range(1, 10)"
      ]
     },
     "execution_count": 87,
     "metadata": {},
     "output_type": "execute_result"
    }
   ],
   "source": [
    "range(1,10)"
   ]
  },
  {
   "cell_type": "code",
   "execution_count": 88,
   "id": "e68e5846-29a0-447b-91ca-fed9d6823363",
   "metadata": {},
   "outputs": [
    {
     "name": "stdout",
     "output_type": "stream",
     "text": [
      "1\n",
      "2\n",
      "3\n",
      "4\n",
      "5\n",
      "6\n",
      "7\n",
      "8\n",
      "9\n"
     ]
    }
   ],
   "source": [
    "for i in range(1,10):\n",
    "    print(i)"
   ]
  },
  {
   "cell_type": "code",
   "execution_count": 89,
   "id": "d2e6b423-fb86-44f5-9930-ba3ff226ad5a",
   "metadata": {},
   "outputs": [],
   "source": [
    "l = [1,2,3,4,4,5,6,7,8,7,\"aayush\",\"pwskills\"]"
   ]
  },
  {
   "cell_type": "code",
   "execution_count": 91,
   "id": "06cb99c1-9602-4bfe-937c-7ae4001eedf3",
   "metadata": {},
   "outputs": [],
   "source": [
    "def ts1(a) :\n",
    "    n=[]\n",
    "    for i in a :\n",
    "        if type(i) == int :\n",
    "            n.append(i)\n",
    "    return n"
   ]
  },
  {
   "cell_type": "code",
   "execution_count": 92,
   "id": "b5d8d7f0-f800-4a6c-abcb-c458988f8ace",
   "metadata": {},
   "outputs": [
    {
     "data": {
      "text/plain": [
       "[1, 2, 3, 4, 4, 5, 6, 7, 8, 7]"
      ]
     },
     "execution_count": 92,
     "metadata": {},
     "output_type": "execute_result"
    }
   ],
   "source": [
    "ts1(l)"
   ]
  },
  {
   "cell_type": "code",
   "execution_count": null,
   "id": "bd466bcd-e8fe-4de6-a25d-96a41a3adda9",
   "metadata": {},
   "outputs": [],
   "source": [
    "Fibonacci :\n",
    "    \n",
    "    0,1,1,2,3,5,8,13,21,34"
   ]
  },
  {
   "cell_type": "code",
   "execution_count": 95,
   "id": "d1e7e5ef-22ec-4725-8c8d-06b4322d84a0",
   "metadata": {},
   "outputs": [],
   "source": [
    "def ts_fib(n):\n",
    "    a,b=0,1\n",
    "    for i in range(n):\n",
    "        yield a\n",
    "        a,b=b , a+b"
   ]
  },
  {
   "cell_type": "code",
   "execution_count": 97,
   "id": "2bd820e9-7c88-4377-9dfc-bf9470638ab7",
   "metadata": {},
   "outputs": [
    {
     "data": {
      "text/plain": [
       "<generator object ts_fib at 0x7f77ed26c270>"
      ]
     },
     "execution_count": 97,
     "metadata": {},
     "output_type": "execute_result"
    }
   ],
   "source": [
    "ts_fib(10)"
   ]
  },
  {
   "cell_type": "code",
   "execution_count": 98,
   "id": "8d95e846-c7da-4afe-be7e-f898a170eac3",
   "metadata": {},
   "outputs": [
    {
     "name": "stdout",
     "output_type": "stream",
     "text": [
      "0\n",
      "1\n",
      "1\n",
      "2\n",
      "3\n",
      "5\n",
      "8\n",
      "13\n",
      "21\n",
      "34\n"
     ]
    }
   ],
   "source": [
    "for i in ts_fib(10) :\n",
    "    print(i)"
   ]
  }
 ],
 "metadata": {
  "kernelspec": {
   "display_name": "Python 3 (ipykernel)",
   "language": "python",
   "name": "python3"
  },
  "language_info": {
   "codemirror_mode": {
    "name": "ipython",
    "version": 3
   },
   "file_extension": ".py",
   "mimetype": "text/x-python",
   "name": "python",
   "nbconvert_exporter": "python",
   "pygments_lexer": "ipython3",
   "version": "3.10.8"
  }
 },
 "nbformat": 4,
 "nbformat_minor": 5
}
